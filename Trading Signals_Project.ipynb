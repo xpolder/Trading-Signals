{
 "cells": [
  {
   "cell_type": "markdown",
   "id": "6fc217f1",
   "metadata": {},
   "source": [
    "# Trading Strategies (RSI, Stochastic, MACD, Bollinger Bands and Keltner Channel)\n",
    "\n",
    "### The project's main focus is on implementing the most accurate and profitable trading strategies and automating the process of trading. In this project we would be using Bitcoin cryptocurrency as it is known for its volatility in the market. Almost all of 5 strategies presented below are built upon measuring volatility and resistance levels of the price.\n",
    "\n",
    "#### Bibliography: \n",
    "1. **Investopedia** https://www.investopedia.com\n",
    "2. **RBC Journal (РБК)** https://www.rbc.ru\n",
    "3. **Technical Analysis Library in Python** https://technical-analysis-library-in-python.readthedocs.io/en/latest/index.html\n",
    "4. **GitHub** https://github.com\n",
    "5. **Livermore –– \"How to trade in stocks\" (pdf)** https://www.trendfollowing.com/pdfs/Jesse_Livermore-How_To_Trade_In_Stocks_(1940_original)-EN.pdf\n",
    "6. **Steve Nison –– Japanese Candlestick (pdf)** https://dl.kohanfx.com/pdf/stevie-nison-candlestick-(KohanFx.com).pdf \n",
    "7. **Algorithmic Trading with Python (YouTube)** https://www.youtube.com/playlist?list=PLwEOixRFAUxZmM26EYI1uYtJG39HDW1zm\n",
    "8. **ML-Quantitative Finance** https://www.ml-quant.com"
   ]
  },
  {
   "cell_type": "markdown",
   "id": "65a6551e",
   "metadata": {},
   "source": [
    "## 0. Importing libraries and getting access to Binance account"
   ]
  },
  {
   "cell_type": "code",
   "execution_count": 1,
   "id": "a2a42ba6",
   "metadata": {},
   "outputs": [],
   "source": [
    "# For trading:\n",
    "import pandas as pd\n",
    "import matplotlib.pyplot as plt\n",
    "import numpy as np\n",
    "from datetime import datetime\n",
    "import plotly.graph_objects as go\n",
    "from yahooquery import Ticker\n",
    "from binance.client import Client\n",
    "import pandas_ta as ta\n",
    "from ta.volatility import BollingerBands\n",
    "from ta.volatility import KeltnerChannel\n",
    "\n",
    "\n",
    "\n",
    "# For ML: \n",
    "from sklearn.linear_model import LogisticRegression\n",
    "from sklearn.svm import SVC\n",
    "from sklearn.ensemble import RandomForestClassifier, GradientBoostingClassifier\n",
    "from sklearn.preprocessing import StandardScaler\n",
    "from sklearn.model_selection import train_test_split, GridSearchCV\n",
    "from sklearn.utils import shuffle\n",
    "from sklearn.metrics import (roc_curve,\n",
    "                             roc_auc_score,\n",
    "                             f1_score,\n",
    "                             confusion_matrix,\n",
    "                             precision_score,\n",
    "                             recall_score,\n",
    "                             accuracy_score)\n",
    "from imblearn.over_sampling import SMOTE"
   ]
  },
  {
   "cell_type": "code",
   "execution_count": 2,
   "id": "f97f52e4",
   "metadata": {},
   "outputs": [],
   "source": [
    "pd.options.mode.chained_assignment = None #avoids getting \"SettingWithCopyWarning\" type of error"
   ]
  },
  {
   "cell_type": "code",
   "execution_count": 3,
   "id": "5ab5ceda",
   "metadata": {},
   "outputs": [],
   "source": [
    "key = ''\n",
    "\n",
    "rsa =''"
   ]
  },
  {
   "cell_type": "code",
   "execution_count": 4,
   "id": "d2955bc9",
   "metadata": {},
   "outputs": [],
   "source": [
    "client = Client(key,rsa) #initializing the session in binance account"
   ]
  },
  {
   "cell_type": "code",
   "execution_count": 5,
   "id": "447d0996",
   "metadata": {},
   "outputs": [],
   "source": [
    "#getting data within the given interval and provided ticker of cryptocurrency\n",
    "def get_data(ticker_, interval,start, end):\n",
    "    frame = pd.DataFrame(client.get_historical_klines(ticker_,interval, start, end))\n",
    "    frame = frame.iloc[:,:6]\n",
    "    frame.columns = ['time','open', 'high' , 'low' , 'close' , 'volume']\n",
    "    frame= frame.set_index('time')\n",
    "    frame.index = pd.to_datetime(frame.index,unit = 'ms')\n",
    "    frame = frame.astype(float)\n",
    "    return frame"
   ]
  },
  {
   "cell_type": "code",
   "execution_count": 6,
   "id": "fc02c19d",
   "metadata": {},
   "outputs": [
    {
     "data": {
      "text/html": [
       "<div>\n",
       "<style scoped>\n",
       "    .dataframe tbody tr th:only-of-type {\n",
       "        vertical-align: middle;\n",
       "    }\n",
       "\n",
       "    .dataframe tbody tr th {\n",
       "        vertical-align: top;\n",
       "    }\n",
       "\n",
       "    .dataframe thead th {\n",
       "        text-align: right;\n",
       "    }\n",
       "</style>\n",
       "<table border=\"1\" class=\"dataframe\">\n",
       "  <thead>\n",
       "    <tr style=\"text-align: right;\">\n",
       "      <th></th>\n",
       "      <th>open</th>\n",
       "      <th>high</th>\n",
       "      <th>low</th>\n",
       "      <th>close</th>\n",
       "      <th>volume</th>\n",
       "    </tr>\n",
       "  </thead>\n",
       "  <tbody>\n",
       "    <tr>\n",
       "      <th>0</th>\n",
       "      <td>41941.70</td>\n",
       "      <td>41984.41</td>\n",
       "      <td>41853.99</td>\n",
       "      <td>41972.65</td>\n",
       "      <td>201.44320</td>\n",
       "    </tr>\n",
       "    <tr>\n",
       "      <th>1</th>\n",
       "      <td>41972.65</td>\n",
       "      <td>42011.00</td>\n",
       "      <td>41851.57</td>\n",
       "      <td>41891.17</td>\n",
       "      <td>146.49099</td>\n",
       "    </tr>\n",
       "    <tr>\n",
       "      <th>2</th>\n",
       "      <td>41891.18</td>\n",
       "      <td>41936.47</td>\n",
       "      <td>41846.27</td>\n",
       "      <td>41886.02</td>\n",
       "      <td>106.92714</td>\n",
       "    </tr>\n",
       "    <tr>\n",
       "      <th>3</th>\n",
       "      <td>41886.02</td>\n",
       "      <td>42039.63</td>\n",
       "      <td>41872.13</td>\n",
       "      <td>42021.32</td>\n",
       "      <td>150.15897</td>\n",
       "    </tr>\n",
       "    <tr>\n",
       "      <th>4</th>\n",
       "      <td>42021.33</td>\n",
       "      <td>42031.21</td>\n",
       "      <td>41941.00</td>\n",
       "      <td>41951.83</td>\n",
       "      <td>120.97185</td>\n",
       "    </tr>\n",
       "    <tr>\n",
       "      <th>...</th>\n",
       "      <td>...</td>\n",
       "      <td>...</td>\n",
       "      <td>...</td>\n",
       "      <td>...</td>\n",
       "      <td>...</td>\n",
       "    </tr>\n",
       "    <tr>\n",
       "      <th>105404</th>\n",
       "      <td>20180.33</td>\n",
       "      <td>20208.66</td>\n",
       "      <td>20164.49</td>\n",
       "      <td>20205.51</td>\n",
       "      <td>1224.17009</td>\n",
       "    </tr>\n",
       "    <tr>\n",
       "      <th>105405</th>\n",
       "      <td>20205.51</td>\n",
       "      <td>20240.40</td>\n",
       "      <td>20195.75</td>\n",
       "      <td>20209.57</td>\n",
       "      <td>1551.02788</td>\n",
       "    </tr>\n",
       "    <tr>\n",
       "      <th>105406</th>\n",
       "      <td>20208.71</td>\n",
       "      <td>20210.50</td>\n",
       "      <td>20096.01</td>\n",
       "      <td>20135.35</td>\n",
       "      <td>2357.42902</td>\n",
       "    </tr>\n",
       "    <tr>\n",
       "      <th>105407</th>\n",
       "      <td>20135.37</td>\n",
       "      <td>20167.21</td>\n",
       "      <td>20127.62</td>\n",
       "      <td>20150.69</td>\n",
       "      <td>1153.00136</td>\n",
       "    </tr>\n",
       "    <tr>\n",
       "      <th>105408</th>\n",
       "      <td>20150.69</td>\n",
       "      <td>20199.97</td>\n",
       "      <td>20142.16</td>\n",
       "      <td>20193.16</td>\n",
       "      <td>1369.30854</td>\n",
       "    </tr>\n",
       "  </tbody>\n",
       "</table>\n",
       "<p>105409 rows × 5 columns</p>\n",
       "</div>"
      ],
      "text/plain": [
       "            open      high       low     close      volume\n",
       "0       41941.70  41984.41  41853.99  41972.65   201.44320\n",
       "1       41972.65  42011.00  41851.57  41891.17   146.49099\n",
       "2       41891.18  41936.47  41846.27  41886.02   106.92714\n",
       "3       41886.02  42039.63  41872.13  42021.32   150.15897\n",
       "4       42021.33  42031.21  41941.00  41951.83   120.97185\n",
       "...          ...       ...       ...       ...         ...\n",
       "105404  20180.33  20208.66  20164.49  20205.51  1224.17009\n",
       "105405  20205.51  20240.40  20195.75  20209.57  1551.02788\n",
       "105406  20208.71  20210.50  20096.01  20135.35  2357.42902\n",
       "105407  20135.37  20167.21  20127.62  20150.69  1153.00136\n",
       "105408  20150.69  20199.97  20142.16  20193.16  1369.30854\n",
       "\n",
       "[105409 rows x 5 columns]"
      ]
     },
     "execution_count": 6,
     "metadata": {},
     "output_type": "execute_result"
    }
   ],
   "source": [
    "ticker_btc = 'BTCUSDT'\n",
    "start =  '10 MAR 2022'\n",
    "end = '11 MAR 2023'\n",
    "\n",
    "data_btc = get_data(ticker_btc,'5m',start,end)\n",
    "data_btc = data_btc.reset_index(drop = True)\n",
    "data_btc"
   ]
  },
  {
   "cell_type": "markdown",
   "id": "979f141b",
   "metadata": {},
   "source": [
    "## 1. RSI\n",
    "\n",
    "According to Investopedia (https://www.investopedia.com/terms/r/rsi.asp): \n",
    "\n",
    "**RSI (Relative Strength Index)** is a momentum indicator used in technical analysis. RSI measures the speed and magnitude of a security's recent price changes to evaluate overvalued or undervalued conditions in the price of that security.\n",
    "\n",
    "* **Calculation**: RSI is calculated by *pandas-ta* library according to the following formula:\n",
    "\n",
    "    ${RSI} = \\displaystyle100 - \\frac{100}{1+\\displaystyle\\frac{EMA(Up)}{EMA(Down)}}$\n",
    "\n",
    "    EMA is the notation for Exponential Moving Average. The source: https://www.investopedia.com/ask/answers/122314/what-exponential-moving-average-ema-formula-and-how-ema-calculated.asp\n",
    "\n",
    "\n",
    "* **Strategy for RSI Index** is as follows: If the RSI index is lower that 30, then the price will go up. If the RSI index is above 70, then the price will go down. Basically, 30 and 70 are boundary levels: the stock is considered oversold when RSI < 30 and considered overbought when RSI > 70\n",
    "\n",
    "\n",
    "\n",
    "![](rsii.jpeg)"
   ]
  },
  {
   "cell_type": "markdown",
   "id": "3e3aef16",
   "metadata": {},
   "source": [
    "### 1.01 Calculating RSI"
   ]
  },
  {
   "cell_type": "code",
   "execution_count": 7,
   "id": "95392f9a",
   "metadata": {},
   "outputs": [],
   "source": [
    "data_btc['RSI_14'] = ta.rsi(data_btc['close'], timeperiod = 14)\n",
    "# data_btc"
   ]
  },
  {
   "cell_type": "markdown",
   "id": "ea28b7c5",
   "metadata": {},
   "source": [
    "### 1.02 RSI Strategy"
   ]
  },
  {
   "cell_type": "code",
   "execution_count": 8,
   "id": "737cf0dd",
   "metadata": {},
   "outputs": [],
   "source": [
    "rsi_oversold = 30\n",
    "rsi_overbought = 70\n",
    "\n",
    "# Creating a new column for signals. 1 for the price to go up, -1 for the price to go down\n",
    "data_btc['RSI_Signal'] = 0"
   ]
  },
  {
   "cell_type": "code",
   "execution_count": 9,
   "id": "f1040614",
   "metadata": {},
   "outputs": [],
   "source": [
    "# data_btc['RSI_14'].plot(kind = 'line');"
   ]
  },
  {
   "cell_type": "code",
   "execution_count": 10,
   "id": "e8569229",
   "metadata": {},
   "outputs": [
    {
     "data": {
      "text/plain": [
       " 0    103023\n",
       " 1      1222\n",
       "-1      1164\n",
       "Name: RSI_Signal, dtype: int64"
      ]
     },
     "execution_count": 10,
     "metadata": {},
     "output_type": "execute_result"
    }
   ],
   "source": [
    "def rsi_strategy(df):\n",
    "    for i in range(1, len(df) - 1): \n",
    "        if (df['RSI_14'][i] < rsi_overbought and\n",
    "            df['RSI_14'][i+1] > rsi_overbought):\n",
    "            df['RSI_Signal'][i+1] = -1 #the price will go down\n",
    "            \n",
    "        if (df['RSI_14'][i] > rsi_oversold and\n",
    "            df['RSI_14'][i+1] < rsi_oversold):\n",
    "            df['RSI_Signal'][i+1] = 1 #the price will go up \n",
    "        \n",
    "            \n",
    "rsi_strategy(data_btc)\n",
    "data_btc['RSI_Signal'].value_counts() #checking the number of signals"
   ]
  },
  {
   "cell_type": "markdown",
   "id": "732302fd",
   "metadata": {},
   "source": [
    "#### The percentage of signals is very low, which is obvioius – RSI is mostly sensitive to global trend reversals and cannot perform better than that. Nevertheless, we still need it to make conclusions about the trend dynamics"
   ]
  },
  {
   "cell_type": "markdown",
   "id": "00094b68",
   "metadata": {},
   "source": [
    "## 2. Stochastic Oscillator\n",
    "\n",
    "According to RBC Journal (https://quote.rbc.ru/news/article/628ccd3a9a79474ed43db40f):\n",
    "\n",
    "**Stochastic Oscillator** is a momentum indicator comparing a particular closing price of a security to a range of its prices over a certain period of time. The sensitivity of the oscillator to market movements is reducible by adjusting that time period or by taking a moving average of the result. It is used to generate overbought and oversold trading signals, utilizing a 0–100 bounded range of values.\n",
    "\n",
    "**Calculation of Stochastic Oscillator** consists of two components: *%K* and *%D*. \n",
    "* *%K* is called \"fast\" stochastic oscillator, which is calculated as follows:\n",
    "\n",
    "    ${\\%K} = \\displaystyle \\left( \\frac{C - L14}{H14 - L14} \\right) \\times 100$ , where\n",
    "\n",
    "    $C$ –– the most recent closing price\n",
    "\n",
    "    $L14$ –– the lowest price traded within the last 14-day period \n",
    "\n",
    "    $H14$ –– the highest price traded within the last 14-day period\n",
    "\n",
    "\n",
    "\n",
    "* *%D* is called \"slow\" stochastic oscillator, which is calculated as 3-day moving average of %K\n",
    "\n",
    "\n",
    "\n",
    "\n",
    "**Stochastic Oscillator Strategy** that we use is one of the safest when trading on the market. The price must go down when %K crosses %D from above and both of them are above 70. We obtain a bullish signal when %K crosses %D from below and both of them are below 30. The strategy is similar to RSI Indicator strategy. When stochastic oscillator is above 80 –– the stock is considered overbought, below 20 –– oversold. Alternative strategy can be not taking into account oversold and overbought levels, but it is more risky\n",
    "\n",
    "![](stoch.jpeg)"
   ]
  },
  {
   "cell_type": "markdown",
   "id": "5c256df3",
   "metadata": {},
   "source": [
    "### 2.01 Calculating Stochastic Oscillator"
   ]
  },
  {
   "cell_type": "code",
   "execution_count": 11,
   "id": "5db96516",
   "metadata": {},
   "outputs": [],
   "source": [
    "data_btc['%K'] = tech.momentum.stoch(data_btc.high, data_btc.low, data_btc.close, window = 14, smooth_window = 3)\n",
    "data_btc['%D'] = data_btc['%K'].rolling(window = 3).mean()\n",
    "\n",
    "# data_btc.reset_index(drop = True).head(16) check to see where %K and %D starts"
   ]
  },
  {
   "cell_type": "markdown",
   "id": "88933cae",
   "metadata": {},
   "source": [
    "### 2.02 Stochastic Oscillator Strategy "
   ]
  },
  {
   "cell_type": "code",
   "execution_count": 12,
   "id": "a1ea9956",
   "metadata": {},
   "outputs": [
    {
     "data": {
      "text/plain": [
       " 0    94090\n",
       "-1     5801\n",
       " 1     5518\n",
       "Name: Stoch_Signal, dtype: int64"
      ]
     },
     "execution_count": 12,
     "metadata": {},
     "output_type": "execute_result"
    }
   ],
   "source": [
    "data_btc['Stoch_Signal'] = 0\n",
    "def stoch_osc_1(df):\n",
    "    for i in range(len(df)-1):\n",
    "        if (df['%K'][i] < df['%D'][i] and\n",
    "            df['%K'][i+1] > df['%D'][i+1] and\n",
    "            df['%K'][i+1] < 30):\n",
    "            \n",
    "            df['Stoch_Signal'][i] = 1 #the price will go up\n",
    "            \n",
    "            \n",
    "        if (df['%K'][i] > df['%D'][i] and\n",
    "            df['%K'][i+1] < df['%D'][i+1] and\n",
    "            df['%K'][i+1] > 70):\n",
    "            \n",
    "            df['Stoch_Signal'][i] = -1 #the price will go down\n",
    "            \n",
    "stoch_osc_1(data_btc)\n",
    "\n",
    "data_btc['Stoch_Signal'].value_counts()"
   ]
  },
  {
   "cell_type": "markdown",
   "id": "900de192",
   "metadata": {},
   "source": [
    "#### 5.19%"
   ]
  },
  {
   "cell_type": "code",
   "execution_count": 13,
   "id": "d992c700",
   "metadata": {},
   "outputs": [],
   "source": [
    "# data_btc['%K'].plot(kind = 'line');"
   ]
  },
  {
   "cell_type": "markdown",
   "id": "f7a751f0",
   "metadata": {},
   "source": [
    "## 3. Bollinger Bands \n",
    "\n",
    "According to Investopedia (https://www.investopedia.com/terms/b/bollingerbands.asp):\n",
    "\n",
    "**Bollinger Bands** is a technical analysis tool defined by a set of trendlines. They are plotted as two standard deviations, both positively and negatively, away from a simple moving average (SMA) of a security's price and can be adjusted to user preferences.\n",
    "\n",
    "* **Bollinger Bands Indicator** is constructed by calculating 20-day Simple Moving Average (SMA) –– Middle Bollinger Band. In our project we used **ta.volatility** library. The function **ta.volatility.BollingerBands** have 3 arguments: close price, window (period for which the bollinger bands are calculated) and window_dev (the amount of standard deviations from 20-day SMA). Upper and lower bands are calculated as follows:\n",
    "\n",
    "    $Up = SMA + 2\\sigma \\left[TP, n \\right] $\n",
    "\n",
    "    $Down = SMA - 2\\sigma \\left[TP, n \\right] $, where\n",
    "\n",
    "    $TP = \\displaystyle \\frac{High + Low + Close}{3}$ –– typical price \n",
    "\n",
    "    $\\sigma \\left[ TP, n \\right]$ –– the standard deviation of typical price within $n$ days\n",
    "    \n",
    "    \n",
    "    \n",
    "* **Bollinger Bands Strategy**. The strategy is based upon the so called \"support and resistance levels\": when the upper bollinger band is crossed from below, the price must return to the range between upper and lower band. The signal to short stock is obtained when the price crosses upper band from above. Same with the lower band: when the price crosses the lower band from above, we expect the price to bounce off of the lower bollinger band or recover within short time. The signal to buy is obtained when the lower band is crossed by the price from below. The signals are generated with the function **bollinger_hband_indicator()** and **bollinger_lband_indicator()**. The first one returns 1 when price crosses the higher band from below (sell) and the latter returns 1 when price crosses the lower band from above (buy)\n",
    "\n",
    "![](boll.png)"
   ]
  },
  {
   "cell_type": "markdown",
   "id": "879c3174",
   "metadata": {},
   "source": [
    "### 3.01 Calculating Bollinger Bands"
   ]
  },
  {
   "cell_type": "code",
   "execution_count": 14,
   "id": "dcc0d96a",
   "metadata": {},
   "outputs": [],
   "source": [
    "indicator_bb = BollingerBands(close = data_btc[\"close\"], window=20, window_dev=2)"
   ]
  },
  {
   "cell_type": "markdown",
   "id": "3c3e4012",
   "metadata": {},
   "source": [
    "### 3.02 Bollinger Bands Strategy"
   ]
  },
  {
   "cell_type": "code",
   "execution_count": 15,
   "id": "0bbb8dc9",
   "metadata": {},
   "outputs": [
    {
     "data": {
      "text/html": [
       "<div>\n",
       "<style scoped>\n",
       "    .dataframe tbody tr th:only-of-type {\n",
       "        vertical-align: middle;\n",
       "    }\n",
       "\n",
       "    .dataframe tbody tr th {\n",
       "        vertical-align: top;\n",
       "    }\n",
       "\n",
       "    .dataframe thead th {\n",
       "        text-align: right;\n",
       "    }\n",
       "</style>\n",
       "<table border=\"1\" class=\"dataframe\">\n",
       "  <thead>\n",
       "    <tr style=\"text-align: right;\">\n",
       "      <th></th>\n",
       "      <th>open</th>\n",
       "      <th>high</th>\n",
       "      <th>low</th>\n",
       "      <th>close</th>\n",
       "      <th>volume</th>\n",
       "      <th>RSI_14</th>\n",
       "      <th>RSI_Signal</th>\n",
       "      <th>%K</th>\n",
       "      <th>%D</th>\n",
       "      <th>Stoch_Signal</th>\n",
       "      <th>bb_h</th>\n",
       "      <th>bb_l</th>\n",
       "    </tr>\n",
       "  </thead>\n",
       "  <tbody>\n",
       "    <tr>\n",
       "      <th>0</th>\n",
       "      <td>41941.70</td>\n",
       "      <td>41984.41</td>\n",
       "      <td>41853.99</td>\n",
       "      <td>41972.65</td>\n",
       "      <td>201.44320</td>\n",
       "      <td>NaN</td>\n",
       "      <td>0</td>\n",
       "      <td>NaN</td>\n",
       "      <td>NaN</td>\n",
       "      <td>0</td>\n",
       "      <td>-0.0</td>\n",
       "      <td>0.0</td>\n",
       "    </tr>\n",
       "    <tr>\n",
       "      <th>1</th>\n",
       "      <td>41972.65</td>\n",
       "      <td>42011.00</td>\n",
       "      <td>41851.57</td>\n",
       "      <td>41891.17</td>\n",
       "      <td>146.49099</td>\n",
       "      <td>NaN</td>\n",
       "      <td>0</td>\n",
       "      <td>NaN</td>\n",
       "      <td>NaN</td>\n",
       "      <td>0</td>\n",
       "      <td>-0.0</td>\n",
       "      <td>0.0</td>\n",
       "    </tr>\n",
       "    <tr>\n",
       "      <th>2</th>\n",
       "      <td>41891.18</td>\n",
       "      <td>41936.47</td>\n",
       "      <td>41846.27</td>\n",
       "      <td>41886.02</td>\n",
       "      <td>106.92714</td>\n",
       "      <td>NaN</td>\n",
       "      <td>0</td>\n",
       "      <td>NaN</td>\n",
       "      <td>NaN</td>\n",
       "      <td>0</td>\n",
       "      <td>-0.0</td>\n",
       "      <td>0.0</td>\n",
       "    </tr>\n",
       "    <tr>\n",
       "      <th>3</th>\n",
       "      <td>41886.02</td>\n",
       "      <td>42039.63</td>\n",
       "      <td>41872.13</td>\n",
       "      <td>42021.32</td>\n",
       "      <td>150.15897</td>\n",
       "      <td>NaN</td>\n",
       "      <td>0</td>\n",
       "      <td>NaN</td>\n",
       "      <td>NaN</td>\n",
       "      <td>0</td>\n",
       "      <td>-0.0</td>\n",
       "      <td>0.0</td>\n",
       "    </tr>\n",
       "    <tr>\n",
       "      <th>4</th>\n",
       "      <td>42021.33</td>\n",
       "      <td>42031.21</td>\n",
       "      <td>41941.00</td>\n",
       "      <td>41951.83</td>\n",
       "      <td>120.97185</td>\n",
       "      <td>NaN</td>\n",
       "      <td>0</td>\n",
       "      <td>NaN</td>\n",
       "      <td>NaN</td>\n",
       "      <td>0</td>\n",
       "      <td>-0.0</td>\n",
       "      <td>0.0</td>\n",
       "    </tr>\n",
       "    <tr>\n",
       "      <th>...</th>\n",
       "      <td>...</td>\n",
       "      <td>...</td>\n",
       "      <td>...</td>\n",
       "      <td>...</td>\n",
       "      <td>...</td>\n",
       "      <td>...</td>\n",
       "      <td>...</td>\n",
       "      <td>...</td>\n",
       "      <td>...</td>\n",
       "      <td>...</td>\n",
       "      <td>...</td>\n",
       "      <td>...</td>\n",
       "    </tr>\n",
       "    <tr>\n",
       "      <th>105404</th>\n",
       "      <td>20180.33</td>\n",
       "      <td>20208.66</td>\n",
       "      <td>20164.49</td>\n",
       "      <td>20205.51</td>\n",
       "      <td>1224.17009</td>\n",
       "      <td>66.256279</td>\n",
       "      <td>0</td>\n",
       "      <td>98.315688</td>\n",
       "      <td>91.628218</td>\n",
       "      <td>-1</td>\n",
       "      <td>-1.0</td>\n",
       "      <td>0.0</td>\n",
       "    </tr>\n",
       "    <tr>\n",
       "      <th>105405</th>\n",
       "      <td>20205.51</td>\n",
       "      <td>20240.40</td>\n",
       "      <td>20195.75</td>\n",
       "      <td>20209.57</td>\n",
       "      <td>1551.02788</td>\n",
       "      <td>66.674705</td>\n",
       "      <td>0</td>\n",
       "      <td>85.906930</td>\n",
       "      <td>91.848152</td>\n",
       "      <td>0</td>\n",
       "      <td>-0.0</td>\n",
       "      <td>0.0</td>\n",
       "    </tr>\n",
       "    <tr>\n",
       "      <th>105406</th>\n",
       "      <td>20208.71</td>\n",
       "      <td>20210.50</td>\n",
       "      <td>20096.01</td>\n",
       "      <td>20135.35</td>\n",
       "      <td>2357.42902</td>\n",
       "      <td>53.591807</td>\n",
       "      <td>0</td>\n",
       "      <td>51.979338</td>\n",
       "      <td>78.733985</td>\n",
       "      <td>0</td>\n",
       "      <td>-0.0</td>\n",
       "      <td>0.0</td>\n",
       "    </tr>\n",
       "    <tr>\n",
       "      <th>105407</th>\n",
       "      <td>20135.37</td>\n",
       "      <td>20167.21</td>\n",
       "      <td>20127.62</td>\n",
       "      <td>20150.69</td>\n",
       "      <td>1153.00136</td>\n",
       "      <td>55.533861</td>\n",
       "      <td>0</td>\n",
       "      <td>45.534576</td>\n",
       "      <td>61.140281</td>\n",
       "      <td>0</td>\n",
       "      <td>-0.0</td>\n",
       "      <td>0.0</td>\n",
       "    </tr>\n",
       "    <tr>\n",
       "      <th>105408</th>\n",
       "      <td>20150.69</td>\n",
       "      <td>20199.97</td>\n",
       "      <td>20142.16</td>\n",
       "      <td>20193.16</td>\n",
       "      <td>1369.30854</td>\n",
       "      <td>60.466442</td>\n",
       "      <td>0</td>\n",
       "      <td>69.754786</td>\n",
       "      <td>55.756233</td>\n",
       "      <td>0</td>\n",
       "      <td>-0.0</td>\n",
       "      <td>0.0</td>\n",
       "    </tr>\n",
       "  </tbody>\n",
       "</table>\n",
       "<p>105409 rows × 12 columns</p>\n",
       "</div>"
      ],
      "text/plain": [
       "            open      high       low     close      volume     RSI_14  \\\n",
       "0       41941.70  41984.41  41853.99  41972.65   201.44320        NaN   \n",
       "1       41972.65  42011.00  41851.57  41891.17   146.49099        NaN   \n",
       "2       41891.18  41936.47  41846.27  41886.02   106.92714        NaN   \n",
       "3       41886.02  42039.63  41872.13  42021.32   150.15897        NaN   \n",
       "4       42021.33  42031.21  41941.00  41951.83   120.97185        NaN   \n",
       "...          ...       ...       ...       ...         ...        ...   \n",
       "105404  20180.33  20208.66  20164.49  20205.51  1224.17009  66.256279   \n",
       "105405  20205.51  20240.40  20195.75  20209.57  1551.02788  66.674705   \n",
       "105406  20208.71  20210.50  20096.01  20135.35  2357.42902  53.591807   \n",
       "105407  20135.37  20167.21  20127.62  20150.69  1153.00136  55.533861   \n",
       "105408  20150.69  20199.97  20142.16  20193.16  1369.30854  60.466442   \n",
       "\n",
       "        RSI_Signal         %K         %D  Stoch_Signal  bb_h  bb_l  \n",
       "0                0        NaN        NaN             0  -0.0   0.0  \n",
       "1                0        NaN        NaN             0  -0.0   0.0  \n",
       "2                0        NaN        NaN             0  -0.0   0.0  \n",
       "3                0        NaN        NaN             0  -0.0   0.0  \n",
       "4                0        NaN        NaN             0  -0.0   0.0  \n",
       "...            ...        ...        ...           ...   ...   ...  \n",
       "105404           0  98.315688  91.628218            -1  -1.0   0.0  \n",
       "105405           0  85.906930  91.848152             0  -0.0   0.0  \n",
       "105406           0  51.979338  78.733985             0  -0.0   0.0  \n",
       "105407           0  45.534576  61.140281             0  -0.0   0.0  \n",
       "105408           0  69.754786  55.756233             0  -0.0   0.0  \n",
       "\n",
       "[105409 rows x 12 columns]"
      ]
     },
     "execution_count": 15,
     "metadata": {},
     "output_type": "execute_result"
    }
   ],
   "source": [
    "def bollinger(df, window = 20, window_dev=2):\n",
    "    df['bb_h'] = -(indicator_bb.bollinger_hband_indicator()) #we receive a signal -1 (the price will go down)\n",
    "    df['bb_l'] = indicator_bb.bollinger_lband_indicator() #we receive a signal 1 (the price will go up)\n",
    "    \n",
    "    return df\n",
    "\n",
    "\n",
    "bollinger(data_btc)"
   ]
  },
  {
   "cell_type": "markdown",
   "id": "be3db92b",
   "metadata": {},
   "source": [
    "#### 7.61%"
   ]
  },
  {
   "cell_type": "markdown",
   "id": "fd2b2c73",
   "metadata": {},
   "source": [
    "## 4. MACD Strategy\n",
    "\n",
    "According to Investopedia (https://www.investopedia.com/terms/m/macd.asp):\n",
    "\n",
    "**MACD (Moving average Convergence/Divergence)** is a trend-following momentum indicator that shows the relationship between two exponential moving averages (EMAs) of a security’s price. \n",
    "\n",
    "* **Calculation**.The MACD line is calculated by subtracting the 26-period EMA from the 12-period EMA.\n",
    "   \n",
    "   **MACD** = EMA12 −  EMA26, where\n",
    "   \n",
    "   **EMA12** –– Exponential Moving Average, calculated within the last 12 days; **EMA26** –– Exponential Moving Average, calculated within the last 26 days\n",
    "   \n",
    "* **The MACD Strategy** is based upon the fact of MACD line and **Signal Line** cross. **Signal Line** is calculated as 9-day moving average of MACD. We expect the price to go up when MACD Line crosses Signal Line from below, and expect price to go down when MACD Line crosses Signal Line from above\n",
    "\n",
    "![](macd.jpeg)"
   ]
  },
  {
   "cell_type": "markdown",
   "id": "55f6255d",
   "metadata": {},
   "source": [
    "### 4.01 Calculating MACD"
   ]
  },
  {
   "cell_type": "code",
   "execution_count": 16,
   "id": "4a499d58",
   "metadata": {},
   "outputs": [
    {
     "data": {
      "text/html": [
       "<div>\n",
       "<style scoped>\n",
       "    .dataframe tbody tr th:only-of-type {\n",
       "        vertical-align: middle;\n",
       "    }\n",
       "\n",
       "    .dataframe tbody tr th {\n",
       "        vertical-align: top;\n",
       "    }\n",
       "\n",
       "    .dataframe thead th {\n",
       "        text-align: right;\n",
       "    }\n",
       "</style>\n",
       "<table border=\"1\" class=\"dataframe\">\n",
       "  <thead>\n",
       "    <tr style=\"text-align: right;\">\n",
       "      <th></th>\n",
       "      <th>open</th>\n",
       "      <th>high</th>\n",
       "      <th>low</th>\n",
       "      <th>close</th>\n",
       "      <th>volume</th>\n",
       "      <th>RSI_14</th>\n",
       "      <th>RSI_Signal</th>\n",
       "      <th>%K</th>\n",
       "      <th>%D</th>\n",
       "      <th>Stoch_Signal</th>\n",
       "      <th>bb_h</th>\n",
       "      <th>bb_l</th>\n",
       "      <th>MACD</th>\n",
       "      <th>MACD_EMA</th>\n",
       "    </tr>\n",
       "  </thead>\n",
       "  <tbody>\n",
       "    <tr>\n",
       "      <th>0</th>\n",
       "      <td>41941.70</td>\n",
       "      <td>41984.41</td>\n",
       "      <td>41853.99</td>\n",
       "      <td>41972.65</td>\n",
       "      <td>201.44320</td>\n",
       "      <td>NaN</td>\n",
       "      <td>0</td>\n",
       "      <td>NaN</td>\n",
       "      <td>NaN</td>\n",
       "      <td>0</td>\n",
       "      <td>-0.0</td>\n",
       "      <td>0.0</td>\n",
       "      <td>NaN</td>\n",
       "      <td>NaN</td>\n",
       "    </tr>\n",
       "    <tr>\n",
       "      <th>1</th>\n",
       "      <td>41972.65</td>\n",
       "      <td>42011.00</td>\n",
       "      <td>41851.57</td>\n",
       "      <td>41891.17</td>\n",
       "      <td>146.49099</td>\n",
       "      <td>NaN</td>\n",
       "      <td>0</td>\n",
       "      <td>NaN</td>\n",
       "      <td>NaN</td>\n",
       "      <td>0</td>\n",
       "      <td>-0.0</td>\n",
       "      <td>0.0</td>\n",
       "      <td>NaN</td>\n",
       "      <td>NaN</td>\n",
       "    </tr>\n",
       "    <tr>\n",
       "      <th>2</th>\n",
       "      <td>41891.18</td>\n",
       "      <td>41936.47</td>\n",
       "      <td>41846.27</td>\n",
       "      <td>41886.02</td>\n",
       "      <td>106.92714</td>\n",
       "      <td>NaN</td>\n",
       "      <td>0</td>\n",
       "      <td>NaN</td>\n",
       "      <td>NaN</td>\n",
       "      <td>0</td>\n",
       "      <td>-0.0</td>\n",
       "      <td>0.0</td>\n",
       "      <td>NaN</td>\n",
       "      <td>NaN</td>\n",
       "    </tr>\n",
       "    <tr>\n",
       "      <th>3</th>\n",
       "      <td>41886.02</td>\n",
       "      <td>42039.63</td>\n",
       "      <td>41872.13</td>\n",
       "      <td>42021.32</td>\n",
       "      <td>150.15897</td>\n",
       "      <td>NaN</td>\n",
       "      <td>0</td>\n",
       "      <td>NaN</td>\n",
       "      <td>NaN</td>\n",
       "      <td>0</td>\n",
       "      <td>-0.0</td>\n",
       "      <td>0.0</td>\n",
       "      <td>NaN</td>\n",
       "      <td>NaN</td>\n",
       "    </tr>\n",
       "    <tr>\n",
       "      <th>4</th>\n",
       "      <td>42021.33</td>\n",
       "      <td>42031.21</td>\n",
       "      <td>41941.00</td>\n",
       "      <td>41951.83</td>\n",
       "      <td>120.97185</td>\n",
       "      <td>NaN</td>\n",
       "      <td>0</td>\n",
       "      <td>NaN</td>\n",
       "      <td>NaN</td>\n",
       "      <td>0</td>\n",
       "      <td>-0.0</td>\n",
       "      <td>0.0</td>\n",
       "      <td>NaN</td>\n",
       "      <td>NaN</td>\n",
       "    </tr>\n",
       "    <tr>\n",
       "      <th>...</th>\n",
       "      <td>...</td>\n",
       "      <td>...</td>\n",
       "      <td>...</td>\n",
       "      <td>...</td>\n",
       "      <td>...</td>\n",
       "      <td>...</td>\n",
       "      <td>...</td>\n",
       "      <td>...</td>\n",
       "      <td>...</td>\n",
       "      <td>...</td>\n",
       "      <td>...</td>\n",
       "      <td>...</td>\n",
       "      <td>...</td>\n",
       "      <td>...</td>\n",
       "    </tr>\n",
       "    <tr>\n",
       "      <th>105404</th>\n",
       "      <td>20180.33</td>\n",
       "      <td>20208.66</td>\n",
       "      <td>20164.49</td>\n",
       "      <td>20205.51</td>\n",
       "      <td>1224.17009</td>\n",
       "      <td>66.256279</td>\n",
       "      <td>0</td>\n",
       "      <td>98.315688</td>\n",
       "      <td>91.628218</td>\n",
       "      <td>-1</td>\n",
       "      <td>-1.0</td>\n",
       "      <td>0.0</td>\n",
       "      <td>45.139079</td>\n",
       "      <td>41.266796</td>\n",
       "    </tr>\n",
       "    <tr>\n",
       "      <th>105405</th>\n",
       "      <td>20205.51</td>\n",
       "      <td>20240.40</td>\n",
       "      <td>20195.75</td>\n",
       "      <td>20209.57</td>\n",
       "      <td>1551.02788</td>\n",
       "      <td>66.674705</td>\n",
       "      <td>0</td>\n",
       "      <td>85.906930</td>\n",
       "      <td>91.848152</td>\n",
       "      <td>0</td>\n",
       "      <td>-0.0</td>\n",
       "      <td>0.0</td>\n",
       "      <td>46.695613</td>\n",
       "      <td>42.352559</td>\n",
       "    </tr>\n",
       "    <tr>\n",
       "      <th>105406</th>\n",
       "      <td>20208.71</td>\n",
       "      <td>20210.50</td>\n",
       "      <td>20096.01</td>\n",
       "      <td>20135.35</td>\n",
       "      <td>2357.42902</td>\n",
       "      <td>53.591807</td>\n",
       "      <td>0</td>\n",
       "      <td>51.979338</td>\n",
       "      <td>78.733985</td>\n",
       "      <td>0</td>\n",
       "      <td>-0.0</td>\n",
       "      <td>0.0</td>\n",
       "      <td>41.462292</td>\n",
       "      <td>42.174506</td>\n",
       "    </tr>\n",
       "    <tr>\n",
       "      <th>105407</th>\n",
       "      <td>20135.37</td>\n",
       "      <td>20167.21</td>\n",
       "      <td>20127.62</td>\n",
       "      <td>20150.69</td>\n",
       "      <td>1153.00136</td>\n",
       "      <td>55.533861</td>\n",
       "      <td>0</td>\n",
       "      <td>45.534576</td>\n",
       "      <td>61.140281</td>\n",
       "      <td>0</td>\n",
       "      <td>-0.0</td>\n",
       "      <td>0.0</td>\n",
       "      <td>38.113310</td>\n",
       "      <td>41.362267</td>\n",
       "    </tr>\n",
       "    <tr>\n",
       "      <th>105408</th>\n",
       "      <td>20150.69</td>\n",
       "      <td>20199.97</td>\n",
       "      <td>20142.16</td>\n",
       "      <td>20193.16</td>\n",
       "      <td>1369.30854</td>\n",
       "      <td>60.466442</td>\n",
       "      <td>0</td>\n",
       "      <td>69.754786</td>\n",
       "      <td>55.756233</td>\n",
       "      <td>0</td>\n",
       "      <td>-0.0</td>\n",
       "      <td>0.0</td>\n",
       "      <td>38.443045</td>\n",
       "      <td>40.778422</td>\n",
       "    </tr>\n",
       "  </tbody>\n",
       "</table>\n",
       "<p>105409 rows × 14 columns</p>\n",
       "</div>"
      ],
      "text/plain": [
       "            open      high       low     close      volume     RSI_14  \\\n",
       "0       41941.70  41984.41  41853.99  41972.65   201.44320        NaN   \n",
       "1       41972.65  42011.00  41851.57  41891.17   146.49099        NaN   \n",
       "2       41891.18  41936.47  41846.27  41886.02   106.92714        NaN   \n",
       "3       41886.02  42039.63  41872.13  42021.32   150.15897        NaN   \n",
       "4       42021.33  42031.21  41941.00  41951.83   120.97185        NaN   \n",
       "...          ...       ...       ...       ...         ...        ...   \n",
       "105404  20180.33  20208.66  20164.49  20205.51  1224.17009  66.256279   \n",
       "105405  20205.51  20240.40  20195.75  20209.57  1551.02788  66.674705   \n",
       "105406  20208.71  20210.50  20096.01  20135.35  2357.42902  53.591807   \n",
       "105407  20135.37  20167.21  20127.62  20150.69  1153.00136  55.533861   \n",
       "105408  20150.69  20199.97  20142.16  20193.16  1369.30854  60.466442   \n",
       "\n",
       "        RSI_Signal         %K         %D  Stoch_Signal  bb_h  bb_l       MACD  \\\n",
       "0                0        NaN        NaN             0  -0.0   0.0        NaN   \n",
       "1                0        NaN        NaN             0  -0.0   0.0        NaN   \n",
       "2                0        NaN        NaN             0  -0.0   0.0        NaN   \n",
       "3                0        NaN        NaN             0  -0.0   0.0        NaN   \n",
       "4                0        NaN        NaN             0  -0.0   0.0        NaN   \n",
       "...            ...        ...        ...           ...   ...   ...        ...   \n",
       "105404           0  98.315688  91.628218            -1  -1.0   0.0  45.139079   \n",
       "105405           0  85.906930  91.848152             0  -0.0   0.0  46.695613   \n",
       "105406           0  51.979338  78.733985             0  -0.0   0.0  41.462292   \n",
       "105407           0  45.534576  61.140281             0  -0.0   0.0  38.113310   \n",
       "105408           0  69.754786  55.756233             0  -0.0   0.0  38.443045   \n",
       "\n",
       "         MACD_EMA  \n",
       "0             NaN  \n",
       "1             NaN  \n",
       "2             NaN  \n",
       "3             NaN  \n",
       "4             NaN  \n",
       "...           ...  \n",
       "105404  41.266796  \n",
       "105405  42.352559  \n",
       "105406  42.174506  \n",
       "105407  41.362267  \n",
       "105408  40.778422  \n",
       "\n",
       "[105409 rows x 14 columns]"
      ]
     },
     "execution_count": 16,
     "metadata": {},
     "output_type": "execute_result"
    }
   ],
   "source": [
    "def get_macd(df):\n",
    "    df['MACD'] = ta.ema(df.close, length = 12) - ta.ema(df.close, length = 26)\n",
    "    df['MACD_EMA'] = ta.ema(df.MACD, length = 9)\n",
    "    return df\n",
    "\n",
    "get_macd(data_btc)"
   ]
  },
  {
   "cell_type": "markdown",
   "id": "deb22794",
   "metadata": {},
   "source": [
    "### 4.02 MACD Strategy"
   ]
  },
  {
   "cell_type": "code",
   "execution_count": 17,
   "id": "9004223a",
   "metadata": {},
   "outputs": [
    {
     "data": {
      "text/plain": [
       " 0    96839\n",
       "-1     4285\n",
       " 1     4285\n",
       "Name: MACD_Signal, dtype: int64"
      ]
     },
     "execution_count": 17,
     "metadata": {},
     "output_type": "execute_result"
    }
   ],
   "source": [
    "data_btc['MACD_Signal'] = 0 \n",
    "def macd_strategy(df):\n",
    "    for i in range(len(df)-1):\n",
    "        \n",
    "        if (df['MACD'][i] < df['MACD_EMA'][i] and\n",
    "            df['MACD'][i+1] > df['MACD_EMA'][i+1]):\n",
    "            df['MACD_Signal'][i+1] = -1 #signal for a price to go down\n",
    "        \n",
    "        if (df['MACD'][i] > df['MACD_EMA'][i] and\n",
    "            df['MACD'][i+1] < df['MACD_EMA'][i+1]):\n",
    "            df['MACD_Signal'][i+1] = 1 #signal for a price to go up \n",
    "            \n",
    "    return df\n",
    "macd_strategy(data_btc)\n",
    "data_btc['MACD_Signal'].value_counts()"
   ]
  },
  {
   "cell_type": "markdown",
   "id": "3c6a2dd4",
   "metadata": {},
   "source": [
    "#### 6.9%"
   ]
  },
  {
   "cell_type": "markdown",
   "id": "c811b494",
   "metadata": {},
   "source": [
    "## 5. Keltner Channel\n",
    "\n",
    "According to Investopedia (https://www.investopedia.com/terms/k/keltnerchannel.asp):\n",
    "\n",
    "**Keltner Channel** is a volatility-based technical indicator composed of three separate lines. The middle line is an exponential moving average (EMA) of the price. Additional lines are placed above and below the EMA. The upper band is typically set two times the ATR above the EMA, and the lower band is typically set two times the ATR below the EMA.\n",
    "\n",
    "* **Calculation**. Keltner Channel is calculated in the same way as Bollinger Bands, via ta.volatility library. However, the calculation of Keltner Channel is based primarily upon 20-day Exponential Moving Averages, not on Simple Moving Averages, which makes it more sensitive to price changes and a little bit more risky. Moreover, instead of standard deviation we use **ATR** –- Average True Range (typically over 10 days). The formula for Keltner Channel is as follows:\n",
    "    \n",
    "    $Up = EMA_{20} + 2 \\times ATR_{10}$\n",
    "    \n",
    "    $Down = EMA_{20} - 2 \\times ATR_{10}$, where \n",
    "    \n",
    "    $ATR_{10} = \\left(\\displaystyle \\frac{1}{n} \\right) \\displaystyle \\sum_{i}^{n} TR_i $\n",
    "    \n",
    "    $TR_i = max \\left[ |H_i-L_i|, |H_i-C_{i-1}^p|, |L_i-C_{i-1}^p|  \\right]$\n",
    "    \n",
    "    $H_i$ –– today's high price\n",
    "    \n",
    "    $L_i$ –– today's low price\n",
    "    \n",
    "    $C_{i-1}^p$ –– yesterday's closing price\n",
    "    \n",
    "    \n",
    "* **The Strategy for Keltner Channel** follows the same logic as Bollinger Bands do: when the upper band is crossed from above (**keltner_channel_hband_indicator()**), we expect a bearish trend (down); when the lower band is crossed from below, we expect a bullish trend (up)\n",
    "\n",
    "![](kelt.jpg)"
   ]
  },
  {
   "cell_type": "markdown",
   "id": "a336034a",
   "metadata": {},
   "source": [
    "### 5.01 Calculating Keltner Channel"
   ]
  },
  {
   "cell_type": "code",
   "execution_count": 18,
   "id": "54e4b5c1",
   "metadata": {},
   "outputs": [],
   "source": [
    "indicator_kc = KeltnerChannel(data_btc.high, data_btc.low, data_btc.close, window = 20, window_atr = 10)"
   ]
  },
  {
   "cell_type": "markdown",
   "id": "e173c192",
   "metadata": {},
   "source": [
    "### 5.02 Keltner Channel Strategy"
   ]
  },
  {
   "cell_type": "code",
   "execution_count": 19,
   "id": "b8643244",
   "metadata": {},
   "outputs": [
    {
     "data": {
      "text/plain": [
       "0    0.78\n",
       "1    0.22\n",
       "Name: kc_l, dtype: float64"
      ]
     },
     "execution_count": 19,
     "metadata": {},
     "output_type": "execute_result"
    }
   ],
   "source": [
    "def keltner_channel(df):\n",
    "    df['kc_h'] = -(indicator_kc.keltner_channel_hband_indicator()) #returns -1 when close price is higher than upper band (price will go down)\n",
    "    df['kc_l'] = indicator_kc.keltner_channel_lband_indicator() #returns -1 when close price is lower than upper band (price will go up)\n",
    "    df['kc_l'] = df['kc_l'].astype('int')\n",
    "    df['kc_h'] = df['kc_h'].astype('int')\n",
    "    return df\n",
    "\n",
    "keltner_channel(data_btc)\n",
    "# amount of bearish signals:\n",
    "data_btc.kc_l.value_counts(normalize = True).round(2)"
   ]
  },
  {
   "cell_type": "markdown",
   "id": "b9ae8c44",
   "metadata": {},
   "source": [
    "#### 22.8%"
   ]
  },
  {
   "cell_type": "markdown",
   "id": "034ad71f",
   "metadata": {},
   "source": [
    "# Machine Learning Applications to Trading Signals:\n",
    "1. **Check the amount of true calls. It is important for us as the model will be trained on this data, and if target variable shows low accuracy, then the model will not perform better than 0.5 (maybe even lower)**\n",
    "2. **Combining strategies with the most accurate rate of calls (> 70%)**\n",
    "3. **Build a model, which is going to train on the strategy with the highest rate of true calls**\n",
    "4. **Try to upgrade the performance of the model by using upsampling technique**"
   ]
  },
  {
   "cell_type": "markdown",
   "id": "7bfae72d",
   "metadata": {},
   "source": [
    "## 1. True calls"
   ]
  },
  {
   "cell_type": "code",
   "execution_count": 20,
   "id": "3cc6cac1",
   "metadata": {},
   "outputs": [],
   "source": [
    "def true_calls(df, signal):\n",
    "    count = 0\n",
    "    for i in range(len(df)):\n",
    "        if df[signal][i] == 1:\n",
    "            if df['close'][i+1] > df['close'][i]:\n",
    "                count += 1\n",
    "    percentage = count / len(df[df[signal] == 1])\n",
    "    return round(percentage, 2)"
   ]
  },
  {
   "cell_type": "code",
   "execution_count": 21,
   "id": "db801810",
   "metadata": {},
   "outputs": [
    {
     "name": "stdout",
     "output_type": "stream",
     "text": [
      "RSI_Signal –– 0.59\n",
      "Stoch_Signal –– 0.74\n",
      "bb_l –– 0.57\n",
      "MACD_Signal –– 0.53\n",
      "kc_l –– 0.55\n"
     ]
    }
   ],
   "source": [
    "signals =  ['RSI_Signal', 'Stoch_Signal', 'bb_l', 'MACD_Signal', 'kc_l']\n",
    "\n",
    "for signal in signals:\n",
    "    print(signal, '––', true_calls(data_btc, signal))\n"
   ]
  },
  {
   "cell_type": "markdown",
   "id": "2ea400e2",
   "metadata": {},
   "source": [
    "**We have measured the probability of true calls for each trading strategy for the year. Further work will be build upon top-3 strategies: 1. RSI, 2. Stochastic Oscillator, 3. Bollinger Bands. Next step is to check the combination of these strategies and come up with the higher probability of true calls**"
   ]
  },
  {
   "cell_type": "markdown",
   "id": "e355b0da",
   "metadata": {},
   "source": [
    "## 2. Combinations of trading strategies\n",
    "**A call of a combined strategy is a call, when two of the chosen strategies have made a call simultaneously**"
   ]
  },
  {
   "cell_type": "markdown",
   "id": "f7eec147",
   "metadata": {},
   "source": [
    "### 2.1 RSI & Stochastic Oscillator"
   ]
  },
  {
   "cell_type": "code",
   "execution_count": 22,
   "id": "7306fbf8",
   "metadata": {},
   "outputs": [
    {
     "data": {
      "text/plain": [
       "0    105009\n",
       "1       400\n",
       "Name: RSI_Stoch_Signal, dtype: int64"
      ]
     },
     "execution_count": 22,
     "metadata": {},
     "output_type": "execute_result"
    }
   ],
   "source": [
    "data_btc['RSI_Stoch_Signal'] = [1 if (data_btc['RSI_Signal'][i] == 1 and data_btc['Stoch_Signal'][i] == 1) else 0 for i in range(len(data_btc))]\n",
    "\n",
    "data_btc.RSI_Stoch_Signal.value_counts()"
   ]
  },
  {
   "cell_type": "code",
   "execution_count": 23,
   "id": "57b9f949",
   "metadata": {},
   "outputs": [
    {
     "data": {
      "text/plain": [
       "0.75"
      ]
     },
     "execution_count": 23,
     "metadata": {},
     "output_type": "execute_result"
    }
   ],
   "source": [
    "true_calls(data_btc, 'RSI_Stoch_Signal')"
   ]
  },
  {
   "cell_type": "code",
   "execution_count": 24,
   "id": "c51a1a81",
   "metadata": {},
   "outputs": [
    {
     "data": {
      "text/plain": [
       "0    0.9962\n",
       "1    0.0038\n",
       "Name: RSI_Stoch_Signal, dtype: float64"
      ]
     },
     "execution_count": 24,
     "metadata": {},
     "output_type": "execute_result"
    }
   ],
   "source": [
    "#Percentage of calls\n",
    "data_btc.RSI_Stoch_Signal.value_counts(normalize = True).round(4)"
   ]
  },
  {
   "cell_type": "markdown",
   "id": "5b427645",
   "metadata": {},
   "source": [
    "**Disbalance is 1 to 263,5. We will need that in part 3**"
   ]
  },
  {
   "cell_type": "markdown",
   "id": "001d0d45",
   "metadata": {},
   "source": [
    "### 2.2 RSI & Bollinger Bands"
   ]
  },
  {
   "cell_type": "code",
   "execution_count": 25,
   "id": "7c0757ca",
   "metadata": {},
   "outputs": [
    {
     "data": {
      "text/plain": [
       "0    104503\n",
       "1       906\n",
       "Name: RSI_Bollinger_Signal, dtype: int64"
      ]
     },
     "execution_count": 25,
     "metadata": {},
     "output_type": "execute_result"
    }
   ],
   "source": [
    "data_btc['RSI_Bollinger_Signal'] = [1 if (data_btc['RSI_Signal'][i] == 1 and data_btc['bb_l'][i] == 1) else 0 for i in range(len(data_btc))]\n",
    "data_btc['RSI_Bollinger_Signal'].value_counts()"
   ]
  },
  {
   "cell_type": "code",
   "execution_count": 26,
   "id": "5fdff9ac",
   "metadata": {},
   "outputs": [
    {
     "data": {
      "text/plain": [
       "0.59"
      ]
     },
     "execution_count": 26,
     "metadata": {},
     "output_type": "execute_result"
    }
   ],
   "source": [
    "true_calls(data_btc, 'RSI_Bollinger_Signal')"
   ]
  },
  {
   "cell_type": "markdown",
   "id": "b59ad076",
   "metadata": {},
   "source": [
    "### 2.3 Stochastic Oscillator & Bollinger Bands"
   ]
  },
  {
   "cell_type": "code",
   "execution_count": 27,
   "id": "337b7a57",
   "metadata": {
    "scrolled": true
   },
   "outputs": [
    {
     "data": {
      "text/plain": [
       "0    103511\n",
       "1      1898\n",
       "Name: Stoch_Bollinger_Signal, dtype: int64"
      ]
     },
     "execution_count": 27,
     "metadata": {},
     "output_type": "execute_result"
    }
   ],
   "source": [
    "data_btc['Stoch_Bollinger_Signal'] = [1 if (data_btc['Stoch_Signal'][i] == 1 and data_btc['bb_l'][i] == 1) else 0 for i in range(len(data_btc))]\n",
    "data_btc['Stoch_Bollinger_Signal'].value_counts()"
   ]
  },
  {
   "cell_type": "code",
   "execution_count": 28,
   "id": "f2409035",
   "metadata": {},
   "outputs": [
    {
     "data": {
      "text/plain": [
       "0.73"
      ]
     },
     "execution_count": 28,
     "metadata": {},
     "output_type": "execute_result"
    }
   ],
   "source": [
    "true_calls(data_btc, 'Stoch_Bollinger_Signal')"
   ]
  },
  {
   "cell_type": "markdown",
   "id": "a4b0bc92",
   "metadata": {},
   "source": [
    "### 2.4 MACD & Stochastic Oscillator (Bonus)"
   ]
  },
  {
   "cell_type": "code",
   "execution_count": 29,
   "id": "07b5fdfc",
   "metadata": {},
   "outputs": [
    {
     "data": {
      "text/plain": [
       "0.7"
      ]
     },
     "execution_count": 29,
     "metadata": {},
     "output_type": "execute_result"
    }
   ],
   "source": [
    "data_btc['MACD_Stoch_Signal'] = [1 if (data_btc['Stoch_Signal'][i] == 1 and data_btc['MACD_Signal'][i] == 1) else 0 for i in range(len(data_btc))]\n",
    "true_calls(data_btc, 'MACD_Stoch_Signal')"
   ]
  },
  {
   "cell_type": "markdown",
   "id": "966f5d30",
   "metadata": {},
   "source": [
    "**To conclude, the best trading strategy is RSI & Stochastic Indicator. RSI is an indicator of global trend reversals and overall movements of the price, whereas Stochastic Indicator is a more volatile indicator (adopts to price movement quicker than RSI), that enables one to trade on a 5-min timeframe. Next step is to build a model which is going to train on the data, obtained by this strategy**"
   ]
  },
  {
   "cell_type": "markdown",
   "id": "563468f2",
   "metadata": {},
   "source": [
    "## 3. Building a model\n",
    "**We will choose optimal model for RSI & Stochastic Oscillator. For features dataset we will need only *open, close, low, high and volume*, and for target variable we will choose *RSI_Stoch_Signal*. Dataset is to be divided in proportion 60/20/20 as we don't have a testing sample. 60% for train dataset, 20% for validation, 20% for testing**"
   ]
  },
  {
   "cell_type": "markdown",
   "id": "58a0d727",
   "metadata": {},
   "source": [
    "### 3.0 Preparing the data"
   ]
  },
  {
   "cell_type": "code",
   "execution_count": 30,
   "id": "37ba4ff8",
   "metadata": {},
   "outputs": [],
   "source": [
    "# data_btc"
   ]
  },
  {
   "cell_type": "code",
   "execution_count": 31,
   "id": "38b0494b",
   "metadata": {},
   "outputs": [
    {
     "data": {
      "text/html": [
       "<div>\n",
       "<style scoped>\n",
       "    .dataframe tbody tr th:only-of-type {\n",
       "        vertical-align: middle;\n",
       "    }\n",
       "\n",
       "    .dataframe tbody tr th {\n",
       "        vertical-align: top;\n",
       "    }\n",
       "\n",
       "    .dataframe thead th {\n",
       "        text-align: right;\n",
       "    }\n",
       "</style>\n",
       "<table border=\"1\" class=\"dataframe\">\n",
       "  <thead>\n",
       "    <tr style=\"text-align: right;\">\n",
       "      <th></th>\n",
       "      <th>open</th>\n",
       "      <th>close</th>\n",
       "      <th>low</th>\n",
       "      <th>high</th>\n",
       "      <th>volume</th>\n",
       "      <th>RSI_14</th>\n",
       "      <th>RSI_Stoch_Signal</th>\n",
       "    </tr>\n",
       "  </thead>\n",
       "  <tbody>\n",
       "    <tr>\n",
       "      <th>14</th>\n",
       "      <td>41736.66</td>\n",
       "      <td>41790.01</td>\n",
       "      <td>41724.51</td>\n",
       "      <td>41810.20</td>\n",
       "      <td>207.97724</td>\n",
       "      <td>38.798444</td>\n",
       "      <td>0</td>\n",
       "    </tr>\n",
       "    <tr>\n",
       "      <th>15</th>\n",
       "      <td>41790.01</td>\n",
       "      <td>41844.67</td>\n",
       "      <td>41783.63</td>\n",
       "      <td>41888.40</td>\n",
       "      <td>91.08533</td>\n",
       "      <td>45.930703</td>\n",
       "      <td>0</td>\n",
       "    </tr>\n",
       "    <tr>\n",
       "      <th>16</th>\n",
       "      <td>41844.66</td>\n",
       "      <td>41892.19</td>\n",
       "      <td>41838.44</td>\n",
       "      <td>41898.48</td>\n",
       "      <td>83.53489</td>\n",
       "      <td>51.249741</td>\n",
       "      <td>0</td>\n",
       "    </tr>\n",
       "    <tr>\n",
       "      <th>17</th>\n",
       "      <td>41892.18</td>\n",
       "      <td>41896.89</td>\n",
       "      <td>41892.18</td>\n",
       "      <td>41950.00</td>\n",
       "      <td>114.71618</td>\n",
       "      <td>51.755261</td>\n",
       "      <td>0</td>\n",
       "    </tr>\n",
       "    <tr>\n",
       "      <th>18</th>\n",
       "      <td>41896.90</td>\n",
       "      <td>41835.31</td>\n",
       "      <td>41815.00</td>\n",
       "      <td>41919.79</td>\n",
       "      <td>126.44188</td>\n",
       "      <td>45.149260</td>\n",
       "      <td>0</td>\n",
       "    </tr>\n",
       "    <tr>\n",
       "      <th>...</th>\n",
       "      <td>...</td>\n",
       "      <td>...</td>\n",
       "      <td>...</td>\n",
       "      <td>...</td>\n",
       "      <td>...</td>\n",
       "      <td>...</td>\n",
       "      <td>...</td>\n",
       "    </tr>\n",
       "    <tr>\n",
       "      <th>105404</th>\n",
       "      <td>20180.33</td>\n",
       "      <td>20205.51</td>\n",
       "      <td>20164.49</td>\n",
       "      <td>20208.66</td>\n",
       "      <td>1224.17009</td>\n",
       "      <td>66.256279</td>\n",
       "      <td>0</td>\n",
       "    </tr>\n",
       "    <tr>\n",
       "      <th>105405</th>\n",
       "      <td>20205.51</td>\n",
       "      <td>20209.57</td>\n",
       "      <td>20195.75</td>\n",
       "      <td>20240.40</td>\n",
       "      <td>1551.02788</td>\n",
       "      <td>66.674705</td>\n",
       "      <td>0</td>\n",
       "    </tr>\n",
       "    <tr>\n",
       "      <th>105406</th>\n",
       "      <td>20208.71</td>\n",
       "      <td>20135.35</td>\n",
       "      <td>20096.01</td>\n",
       "      <td>20210.50</td>\n",
       "      <td>2357.42902</td>\n",
       "      <td>53.591807</td>\n",
       "      <td>0</td>\n",
       "    </tr>\n",
       "    <tr>\n",
       "      <th>105407</th>\n",
       "      <td>20135.37</td>\n",
       "      <td>20150.69</td>\n",
       "      <td>20127.62</td>\n",
       "      <td>20167.21</td>\n",
       "      <td>1153.00136</td>\n",
       "      <td>55.533861</td>\n",
       "      <td>0</td>\n",
       "    </tr>\n",
       "    <tr>\n",
       "      <th>105408</th>\n",
       "      <td>20150.69</td>\n",
       "      <td>20193.16</td>\n",
       "      <td>20142.16</td>\n",
       "      <td>20199.97</td>\n",
       "      <td>1369.30854</td>\n",
       "      <td>60.466442</td>\n",
       "      <td>0</td>\n",
       "    </tr>\n",
       "  </tbody>\n",
       "</table>\n",
       "<p>105395 rows × 7 columns</p>\n",
       "</div>"
      ],
      "text/plain": [
       "            open     close       low      high      volume     RSI_14  \\\n",
       "14      41736.66  41790.01  41724.51  41810.20   207.97724  38.798444   \n",
       "15      41790.01  41844.67  41783.63  41888.40    91.08533  45.930703   \n",
       "16      41844.66  41892.19  41838.44  41898.48    83.53489  51.249741   \n",
       "17      41892.18  41896.89  41892.18  41950.00   114.71618  51.755261   \n",
       "18      41896.90  41835.31  41815.00  41919.79   126.44188  45.149260   \n",
       "...          ...       ...       ...       ...         ...        ...   \n",
       "105404  20180.33  20205.51  20164.49  20208.66  1224.17009  66.256279   \n",
       "105405  20205.51  20209.57  20195.75  20240.40  1551.02788  66.674705   \n",
       "105406  20208.71  20135.35  20096.01  20210.50  2357.42902  53.591807   \n",
       "105407  20135.37  20150.69  20127.62  20167.21  1153.00136  55.533861   \n",
       "105408  20150.69  20193.16  20142.16  20199.97  1369.30854  60.466442   \n",
       "\n",
       "        RSI_Stoch_Signal  \n",
       "14                     0  \n",
       "15                     0  \n",
       "16                     0  \n",
       "17                     0  \n",
       "18                     0  \n",
       "...                  ...  \n",
       "105404                 0  \n",
       "105405                 0  \n",
       "105406                 0  \n",
       "105407                 0  \n",
       "105408                 0  \n",
       "\n",
       "[105395 rows x 7 columns]"
      ]
     },
     "execution_count": 31,
     "metadata": {},
     "output_type": "execute_result"
    }
   ],
   "source": [
    "df = data_btc[['open', 'close', 'low', 'high', 'volume', 'RSI_14', 'RSI_Stoch_Signal']]\n",
    "df = df[14:] #for RSI_14 column, because we cannot fit the model with NaN values\n",
    "df"
   ]
  },
  {
   "cell_type": "markdown",
   "id": "46523d14",
   "metadata": {},
   "source": [
    "**Dividing the dataset:**"
   ]
  },
  {
   "cell_type": "code",
   "execution_count": 32,
   "id": "a094a5e5",
   "metadata": {},
   "outputs": [],
   "source": [
    "df_train, df_valid = train_test_split(df, test_size = 0.40, random_state = 12345)\n",
    "\n",
    "df_valid, df_test = train_test_split(df_valid, test_size = 0.50, random_state = 12345)"
   ]
  },
  {
   "cell_type": "code",
   "execution_count": 33,
   "id": "c72ade12",
   "metadata": {},
   "outputs": [],
   "source": [
    "features_train = df_train.drop(['RSI_Stoch_Signal'], axis = 1)\n",
    "target_train = df_train['RSI_Stoch_Signal']\n",
    "\n",
    "features_valid = df_valid.drop(['RSI_Stoch_Signal'], axis = 1)\n",
    "target_valid = df_valid['RSI_Stoch_Signal']\n",
    "\n",
    "features_test = df_test.drop(['RSI_Stoch_Signal'], axis = 1)\n",
    "target_test = df_test['RSI_Stoch_Signal']"
   ]
  },
  {
   "cell_type": "markdown",
   "id": "a5ed4576",
   "metadata": {},
   "source": [
    "**Checking the shapes of obtained datasets:**"
   ]
  },
  {
   "cell_type": "code",
   "execution_count": 34,
   "id": "64634a8a",
   "metadata": {},
   "outputs": [
    {
     "data": {
      "text/plain": [
       "((63237, 6), (63237,), (21079, 6), (21079,), (21079, 6), (21079,))"
      ]
     },
     "execution_count": 34,
     "metadata": {},
     "output_type": "execute_result"
    }
   ],
   "source": [
    "features_train.shape, target_train.shape, features_valid.shape, target_valid.shape, features_test.shape, target_test.shape"
   ]
  },
  {
   "cell_type": "markdown",
   "id": "32b9fe21",
   "metadata": {},
   "source": [
    "**The column *volume* have smaller and model will think that values in this column are less important that values in other columns, which is not true. We will need to standardize features using *ScalerTransform()* function**"
   ]
  },
  {
   "cell_type": "code",
   "execution_count": 35,
   "id": "483f7991",
   "metadata": {},
   "outputs": [],
   "source": [
    "numeric = ['open', 'close', 'low', 'high', 'close', 'volume']\n",
    "scaler = StandardScaler()\n",
    "scaler.fit(features_train[numeric]) \n",
    "\n",
    "features_train[numeric] = scaler.transform(features_train[numeric])\n",
    "features_valid[numeric] = scaler.transform(features_valid[numeric])\n",
    "features_test[numeric] = scaler.transform(features_test[numeric])"
   ]
  },
  {
   "cell_type": "code",
   "execution_count": 36,
   "id": "add16ad4",
   "metadata": {},
   "outputs": [],
   "source": [
    "def stats(predictions, target_valid, features_valid):\n",
    "    print('Accuracy:', accuracy_score(predictions, target_valid))\n",
    "    print('Recall:', recall_score(predictions, target_valid))\n",
    "    print('Precision:',  precision_score(predictions, target_valid))\n",
    "    print('F1:', f1_score(predictions, target_valid))\n",
    "    \n",
    "    probabilities_one_valid = model.predict_proba(features_valid)[:, 1]\n",
    "    print('AUC-ROC:', roc_auc_score(target_valid, probabilities_one_valid))"
   ]
  },
  {
   "cell_type": "markdown",
   "id": "a446752d",
   "metadata": {},
   "source": [
    "## 4. Creating a model that predicts the truthfulness of a call"
   ]
  },
  {
   "cell_type": "markdown",
   "id": "41dc4a4b",
   "metadata": {},
   "source": [
    "### 4.0 Preparing the dataset"
   ]
  },
  {
   "cell_type": "code",
   "execution_count": 77,
   "id": "a988ac53",
   "metadata": {},
   "outputs": [
    {
     "data": {
      "text/plain": [
       "1    299\n",
       "0    101\n",
       "Name: True, dtype: int64"
      ]
     },
     "execution_count": 77,
     "metadata": {},
     "output_type": "execute_result"
    }
   ],
   "source": [
    "df = df.reset_index(drop = True)\n",
    "df['True'] = [1 if df['RSI_Stoch_Signal'][i] == 1 and df['close'][i+1] > df['close'][i] else 0 for i in range(len(df))]\n",
    "dfs = df[df['RSI_Stoch_Signal'] == 1]\n",
    "dfs['True'].value_counts()"
   ]
  },
  {
   "cell_type": "code",
   "execution_count": 78,
   "id": "de451fc4",
   "metadata": {},
   "outputs": [
    {
     "data": {
      "text/html": [
       "<div>\n",
       "<style scoped>\n",
       "    .dataframe tbody tr th:only-of-type {\n",
       "        vertical-align: middle;\n",
       "    }\n",
       "\n",
       "    .dataframe tbody tr th {\n",
       "        vertical-align: top;\n",
       "    }\n",
       "\n",
       "    .dataframe thead th {\n",
       "        text-align: right;\n",
       "    }\n",
       "</style>\n",
       "<table border=\"1\" class=\"dataframe\">\n",
       "  <thead>\n",
       "    <tr style=\"text-align: right;\">\n",
       "      <th></th>\n",
       "      <th>open</th>\n",
       "      <th>close</th>\n",
       "      <th>low</th>\n",
       "      <th>high</th>\n",
       "      <th>volume</th>\n",
       "      <th>RSI_14</th>\n",
       "      <th>True</th>\n",
       "    </tr>\n",
       "  </thead>\n",
       "  <tbody>\n",
       "    <tr>\n",
       "      <th>84</th>\n",
       "      <td>39104.28</td>\n",
       "      <td>38957.11</td>\n",
       "      <td>38931.51</td>\n",
       "      <td>39145.39</td>\n",
       "      <td>467.04180</td>\n",
       "      <td>27.864183</td>\n",
       "      <td>1</td>\n",
       "    </tr>\n",
       "    <tr>\n",
       "      <th>291</th>\n",
       "      <td>38953.99</td>\n",
       "      <td>38683.44</td>\n",
       "      <td>38636.36</td>\n",
       "      <td>38993.80</td>\n",
       "      <td>675.37292</td>\n",
       "      <td>23.446349</td>\n",
       "      <td>1</td>\n",
       "    </tr>\n",
       "    <tr>\n",
       "      <th>296</th>\n",
       "      <td>38800.01</td>\n",
       "      <td>38605.16</td>\n",
       "      <td>38570.64</td>\n",
       "      <td>38800.01</td>\n",
       "      <td>459.04508</td>\n",
       "      <td>28.534311</td>\n",
       "      <td>1</td>\n",
       "    </tr>\n",
       "    <tr>\n",
       "      <th>300</th>\n",
       "      <td>38600.01</td>\n",
       "      <td>38303.73</td>\n",
       "      <td>38248.37</td>\n",
       "      <td>38600.01</td>\n",
       "      <td>1037.04007</td>\n",
       "      <td>24.782087</td>\n",
       "      <td>1</td>\n",
       "    </tr>\n",
       "    <tr>\n",
       "      <th>523</th>\n",
       "      <td>38592.08</td>\n",
       "      <td>38364.53</td>\n",
       "      <td>38347.98</td>\n",
       "      <td>38622.21</td>\n",
       "      <td>644.49354</td>\n",
       "      <td>27.046748</td>\n",
       "      <td>0</td>\n",
       "    </tr>\n",
       "    <tr>\n",
       "      <th>...</th>\n",
       "      <td>...</td>\n",
       "      <td>...</td>\n",
       "      <td>...</td>\n",
       "      <td>...</td>\n",
       "      <td>...</td>\n",
       "      <td>...</td>\n",
       "      <td>...</td>\n",
       "    </tr>\n",
       "    <tr>\n",
       "      <th>104595</th>\n",
       "      <td>22077.59</td>\n",
       "      <td>22039.43</td>\n",
       "      <td>22038.81</td>\n",
       "      <td>22083.95</td>\n",
       "      <td>1367.49554</td>\n",
       "      <td>25.236896</td>\n",
       "      <td>1</td>\n",
       "    </tr>\n",
       "    <tr>\n",
       "      <th>105116</th>\n",
       "      <td>20105.84</td>\n",
       "      <td>20068.25</td>\n",
       "      <td>20040.01</td>\n",
       "      <td>20109.70</td>\n",
       "      <td>2315.53183</td>\n",
       "      <td>28.946120</td>\n",
       "      <td>1</td>\n",
       "    </tr>\n",
       "    <tr>\n",
       "      <th>105161</th>\n",
       "      <td>19937.47</td>\n",
       "      <td>19880.48</td>\n",
       "      <td>19866.41</td>\n",
       "      <td>19940.52</td>\n",
       "      <td>2578.62017</td>\n",
       "      <td>26.332535</td>\n",
       "      <td>1</td>\n",
       "    </tr>\n",
       "    <tr>\n",
       "      <th>105164</th>\n",
       "      <td>19898.36</td>\n",
       "      <td>19864.90</td>\n",
       "      <td>19861.53</td>\n",
       "      <td>19907.78</td>\n",
       "      <td>1067.02503</td>\n",
       "      <td>28.415032</td>\n",
       "      <td>1</td>\n",
       "    </tr>\n",
       "    <tr>\n",
       "      <th>105234</th>\n",
       "      <td>19785.11</td>\n",
       "      <td>19676.60</td>\n",
       "      <td>19670.01</td>\n",
       "      <td>19788.83</td>\n",
       "      <td>7572.30990</td>\n",
       "      <td>22.923459</td>\n",
       "      <td>0</td>\n",
       "    </tr>\n",
       "  </tbody>\n",
       "</table>\n",
       "<p>400 rows × 7 columns</p>\n",
       "</div>"
      ],
      "text/plain": [
       "            open     close       low      high      volume     RSI_14  True\n",
       "84      39104.28  38957.11  38931.51  39145.39   467.04180  27.864183     1\n",
       "291     38953.99  38683.44  38636.36  38993.80   675.37292  23.446349     1\n",
       "296     38800.01  38605.16  38570.64  38800.01   459.04508  28.534311     1\n",
       "300     38600.01  38303.73  38248.37  38600.01  1037.04007  24.782087     1\n",
       "523     38592.08  38364.53  38347.98  38622.21   644.49354  27.046748     0\n",
       "...          ...       ...       ...       ...         ...        ...   ...\n",
       "104595  22077.59  22039.43  22038.81  22083.95  1367.49554  25.236896     1\n",
       "105116  20105.84  20068.25  20040.01  20109.70  2315.53183  28.946120     1\n",
       "105161  19937.47  19880.48  19866.41  19940.52  2578.62017  26.332535     1\n",
       "105164  19898.36  19864.90  19861.53  19907.78  1067.02503  28.415032     1\n",
       "105234  19785.11  19676.60  19670.01  19788.83  7572.30990  22.923459     0\n",
       "\n",
       "[400 rows x 7 columns]"
      ]
     },
     "execution_count": 78,
     "metadata": {},
     "output_type": "execute_result"
    }
   ],
   "source": [
    "dfs = dfs.drop('RSI_Stoch_Signal', axis = 1) # we won't need column RSI_Stoch_Signal as a feature, because it consists only of \"1\"\n",
    "dfs"
   ]
  },
  {
   "cell_type": "code",
   "execution_count": 79,
   "id": "c617859a",
   "metadata": {},
   "outputs": [],
   "source": [
    "dfs_train, dfs_valid = train_test_split(dfs, test_size = 0.20, random_state = rndst)\n",
    "\n",
    "dfs_valid, dfs_test = train_test_split(dfs_valid, test_size = 0.50, random_state = rndst)"
   ]
  },
  {
   "cell_type": "code",
   "execution_count": 80,
   "id": "b5f1ded2",
   "metadata": {},
   "outputs": [],
   "source": [
    "features_train = dfs_train.drop(['True'], axis = 1)\n",
    "target_train = dfs_train['True']\n",
    "\n",
    "features_valid = dfs_valid.drop(['True'], axis = 1)\n",
    "target_valid = dfs_valid['True']\n",
    "\n",
    "features_test = dfs_test.drop(['True'], axis = 1)\n",
    "target_test = dfs_test['True']"
   ]
  },
  {
   "cell_type": "markdown",
   "id": "90ab0cb2",
   "metadata": {},
   "source": [
    "### 4.1 Models\n",
    "**We will use Random Forest Classifier and Logistic Regression with standardized features. Firstly we will try to train the model with imbalance of classes. Next step is to check the balanced weights.**"
   ]
  },
  {
   "cell_type": "markdown",
   "id": "d26b819b",
   "metadata": {},
   "source": [
    "#### 4.1.1 Logistic Regression"
   ]
  },
  {
   "cell_type": "code",
   "execution_count": 90,
   "id": "e977f400",
   "metadata": {},
   "outputs": [
    {
     "name": "stdout",
     "output_type": "stream",
     "text": [
      "Accuracy: 0.725\n",
      "Recall: 0.725\n",
      "Precision: 1.0\n",
      "F1: 0.8405797101449275\n",
      "AUC-ROC: 0.5329153605015674\n"
     ]
    }
   ],
   "source": [
    "model = LogisticRegression(max_iter = 10000)\n",
    "model.fit(features_train, target_train)\n",
    "predictions = model.predict(features_test)\n",
    "\n",
    "stats(predictions, target_valid, features_test)"
   ]
  },
  {
   "cell_type": "code",
   "execution_count": 105,
   "id": "7e295910",
   "metadata": {},
   "outputs": [
    {
     "name": "stdout",
     "output_type": "stream",
     "text": [
      "Accuracy: 0.6\n",
      "Recall: 0.76\n",
      "Precision: 0.6551724137931034\n",
      "F1: 0.7037037037037037\n",
      "AUC-ROC: 0.5329153605015673\n"
     ]
    }
   ],
   "source": [
    "oversample = SMOTE(random_state = rndst)\n",
    "features_train_up, target_train_up = oversample.fit_resample(features_train, target_train)\n",
    "features_train_down, target_train_down = downsampling(features_train, target_train, 0.333) \n",
    "\n",
    "model = LogisticRegression(max_iter = 10000)\n",
    "model.fit(features_train_up, target_train_up)\n",
    "predictions = model.predict(features_test)\n",
    "\n",
    "stats(predictions, target_valid, features_test)"
   ]
  },
  {
   "cell_type": "markdown",
   "id": "4a467740",
   "metadata": {},
   "source": [
    "#### 4.1.2 Random Forest Classifier"
   ]
  },
  {
   "cell_type": "code",
   "execution_count": 56,
   "id": "932a220d",
   "metadata": {},
   "outputs": [
    {
     "name": "stdout",
     "output_type": "stream",
     "text": [
      "Best F1: 0.8857142857142858\n",
      "Best parameters: {'Best Estimator': 31, 'Best Depth': 5, 'Best Criterion': 'entropy'}\n"
     ]
    }
   ],
   "source": [
    "best_f1 = 0\n",
    "best_estimators = 0\n",
    "best_depth = 0\n",
    "best_criterion = ''\n",
    "\n",
    "for estimator in range(1,101,10):\n",
    "    for depth in range(1,21):\n",
    "        for criterion in ['gini', 'entropy']:\n",
    "            model = RandomForestClassifier(\n",
    "                                            n_estimators = estimator, \n",
    "                                            max_features = 'sqrt', \n",
    "                                            max_depth = depth,\n",
    "                                            criterion = criterion,\n",
    "                                           )\n",
    "            model.fit(features_train, target_train)\n",
    "\n",
    "            predictions = model.predict(features_valid)\n",
    "            f1 = f1_score(target_valid, predictions)\n",
    "            if f1 > best_f1:\n",
    "                best_f1 = f1\n",
    "                best_estimators = estimator\n",
    "                best_depth=depth\n",
    "                best_criterion = criterion\n",
    "                                \n",
    "params = {'Best Estimator' : best_estimators,\n",
    "          'Best Depth' : best_depth,\n",
    "          'Best Criterion' : best_criterion\n",
    "         }\n",
    "                        \n",
    "print('Best F1:', best_f1)\n",
    "print('Best parameters:', params)"
   ]
  },
  {
   "cell_type": "code",
   "execution_count": 113,
   "id": "3e826c43",
   "metadata": {},
   "outputs": [
    {
     "name": "stdout",
     "output_type": "stream",
     "text": [
      "Accuracy: 0.575\n",
      "Recall: 0.75\n",
      "Precision: 0.6206896551724138\n",
      "F1: 0.679245283018868\n",
      "AUC-ROC: 0.5485893416927901\n"
     ]
    }
   ],
   "source": [
    "model = RandomForestClassifier(n_estimators = 31, max_depth = 5, criterion = 'entropy')\n",
    "model.fit(features_train_up, target_train_up)\n",
    "\n",
    "predictions = model.predict(features_test)\n",
    "\n",
    "stats(predictions, target_valid, features_test)"
   ]
  },
  {
   "cell_type": "code",
   "execution_count": 115,
   "id": "ab8dfbc6",
   "metadata": {},
   "outputs": [
    {
     "name": "stdout",
     "output_type": "stream",
     "text": [
      "Accuracy: 0.725\n",
      "Recall: 0.725\n",
      "Precision: 1.0\n",
      "F1: 0.8405797101449275\n",
      "AUC-ROC: 0.4341692789968652\n"
     ]
    }
   ],
   "source": [
    "model = RandomForestClassifier(n_estimators = 31, max_depth = 5, criterion = '')\n",
    "model.fit(features_train_down, target_train_down)\n",
    "\n",
    "predictions = model.predict(features_valid)\n",
    "\n",
    "stats(predictions, target_valid, features_valid)"
   ]
  },
  {
   "cell_type": "markdown",
   "id": "16685270",
   "metadata": {},
   "source": [
    "## 5. Creating a model that predicts the truthfulness of a call (bigger dataset)"
   ]
  },
  {
   "cell_type": "code",
   "execution_count": 59,
   "id": "a2dcc641",
   "metadata": {},
   "outputs": [
    {
     "data": {
      "text/html": [
       "<div>\n",
       "<style scoped>\n",
       "    .dataframe tbody tr th:only-of-type {\n",
       "        vertical-align: middle;\n",
       "    }\n",
       "\n",
       "    .dataframe tbody tr th {\n",
       "        vertical-align: top;\n",
       "    }\n",
       "\n",
       "    .dataframe thead th {\n",
       "        text-align: right;\n",
       "    }\n",
       "</style>\n",
       "<table border=\"1\" class=\"dataframe\">\n",
       "  <thead>\n",
       "    <tr style=\"text-align: right;\">\n",
       "      <th></th>\n",
       "      <th>open</th>\n",
       "      <th>close</th>\n",
       "      <th>low</th>\n",
       "      <th>high</th>\n",
       "      <th>volume</th>\n",
       "      <th>RSI_14</th>\n",
       "      <th>RSI_Stoch_Signal</th>\n",
       "      <th>True</th>\n",
       "    </tr>\n",
       "  </thead>\n",
       "  <tbody>\n",
       "    <tr>\n",
       "      <th>0</th>\n",
       "      <td>41736.66</td>\n",
       "      <td>41790.01</td>\n",
       "      <td>41724.51</td>\n",
       "      <td>41810.20</td>\n",
       "      <td>207.97724</td>\n",
       "      <td>38.798444</td>\n",
       "      <td>0</td>\n",
       "      <td>0</td>\n",
       "    </tr>\n",
       "    <tr>\n",
       "      <th>1</th>\n",
       "      <td>41790.01</td>\n",
       "      <td>41844.67</td>\n",
       "      <td>41783.63</td>\n",
       "      <td>41888.40</td>\n",
       "      <td>91.08533</td>\n",
       "      <td>45.930703</td>\n",
       "      <td>0</td>\n",
       "      <td>0</td>\n",
       "    </tr>\n",
       "    <tr>\n",
       "      <th>2</th>\n",
       "      <td>41844.66</td>\n",
       "      <td>41892.19</td>\n",
       "      <td>41838.44</td>\n",
       "      <td>41898.48</td>\n",
       "      <td>83.53489</td>\n",
       "      <td>51.249741</td>\n",
       "      <td>0</td>\n",
       "      <td>0</td>\n",
       "    </tr>\n",
       "    <tr>\n",
       "      <th>3</th>\n",
       "      <td>41892.18</td>\n",
       "      <td>41896.89</td>\n",
       "      <td>41892.18</td>\n",
       "      <td>41950.00</td>\n",
       "      <td>114.71618</td>\n",
       "      <td>51.755261</td>\n",
       "      <td>0</td>\n",
       "      <td>0</td>\n",
       "    </tr>\n",
       "    <tr>\n",
       "      <th>4</th>\n",
       "      <td>41896.90</td>\n",
       "      <td>41835.31</td>\n",
       "      <td>41815.00</td>\n",
       "      <td>41919.79</td>\n",
       "      <td>126.44188</td>\n",
       "      <td>45.149260</td>\n",
       "      <td>0</td>\n",
       "      <td>0</td>\n",
       "    </tr>\n",
       "    <tr>\n",
       "      <th>...</th>\n",
       "      <td>...</td>\n",
       "      <td>...</td>\n",
       "      <td>...</td>\n",
       "      <td>...</td>\n",
       "      <td>...</td>\n",
       "      <td>...</td>\n",
       "      <td>...</td>\n",
       "      <td>...</td>\n",
       "    </tr>\n",
       "    <tr>\n",
       "      <th>105390</th>\n",
       "      <td>20180.33</td>\n",
       "      <td>20205.51</td>\n",
       "      <td>20164.49</td>\n",
       "      <td>20208.66</td>\n",
       "      <td>1224.17009</td>\n",
       "      <td>66.256279</td>\n",
       "      <td>0</td>\n",
       "      <td>0</td>\n",
       "    </tr>\n",
       "    <tr>\n",
       "      <th>105391</th>\n",
       "      <td>20205.51</td>\n",
       "      <td>20209.57</td>\n",
       "      <td>20195.75</td>\n",
       "      <td>20240.40</td>\n",
       "      <td>1551.02788</td>\n",
       "      <td>66.674705</td>\n",
       "      <td>0</td>\n",
       "      <td>0</td>\n",
       "    </tr>\n",
       "    <tr>\n",
       "      <th>105392</th>\n",
       "      <td>20208.71</td>\n",
       "      <td>20135.35</td>\n",
       "      <td>20096.01</td>\n",
       "      <td>20210.50</td>\n",
       "      <td>2357.42902</td>\n",
       "      <td>53.591807</td>\n",
       "      <td>0</td>\n",
       "      <td>0</td>\n",
       "    </tr>\n",
       "    <tr>\n",
       "      <th>105393</th>\n",
       "      <td>20135.37</td>\n",
       "      <td>20150.69</td>\n",
       "      <td>20127.62</td>\n",
       "      <td>20167.21</td>\n",
       "      <td>1153.00136</td>\n",
       "      <td>55.533861</td>\n",
       "      <td>0</td>\n",
       "      <td>0</td>\n",
       "    </tr>\n",
       "    <tr>\n",
       "      <th>105394</th>\n",
       "      <td>20150.69</td>\n",
       "      <td>20193.16</td>\n",
       "      <td>20142.16</td>\n",
       "      <td>20199.97</td>\n",
       "      <td>1369.30854</td>\n",
       "      <td>60.466442</td>\n",
       "      <td>0</td>\n",
       "      <td>0</td>\n",
       "    </tr>\n",
       "  </tbody>\n",
       "</table>\n",
       "<p>105395 rows × 8 columns</p>\n",
       "</div>"
      ],
      "text/plain": [
       "            open     close       low      high      volume     RSI_14  \\\n",
       "0       41736.66  41790.01  41724.51  41810.20   207.97724  38.798444   \n",
       "1       41790.01  41844.67  41783.63  41888.40    91.08533  45.930703   \n",
       "2       41844.66  41892.19  41838.44  41898.48    83.53489  51.249741   \n",
       "3       41892.18  41896.89  41892.18  41950.00   114.71618  51.755261   \n",
       "4       41896.90  41835.31  41815.00  41919.79   126.44188  45.149260   \n",
       "...          ...       ...       ...       ...         ...        ...   \n",
       "105390  20180.33  20205.51  20164.49  20208.66  1224.17009  66.256279   \n",
       "105391  20205.51  20209.57  20195.75  20240.40  1551.02788  66.674705   \n",
       "105392  20208.71  20135.35  20096.01  20210.50  2357.42902  53.591807   \n",
       "105393  20135.37  20150.69  20127.62  20167.21  1153.00136  55.533861   \n",
       "105394  20150.69  20193.16  20142.16  20199.97  1369.30854  60.466442   \n",
       "\n",
       "        RSI_Stoch_Signal  True  \n",
       "0                      0     0  \n",
       "1                      0     0  \n",
       "2                      0     0  \n",
       "3                      0     0  \n",
       "4                      0     0  \n",
       "...                  ...   ...  \n",
       "105390                 0     0  \n",
       "105391                 0     0  \n",
       "105392                 0     0  \n",
       "105393                 0     0  \n",
       "105394                 0     0  \n",
       "\n",
       "[105395 rows x 8 columns]"
      ]
     },
     "execution_count": 59,
     "metadata": {},
     "output_type": "execute_result"
    }
   ],
   "source": [
    "df"
   ]
  },
  {
   "cell_type": "code",
   "execution_count": 60,
   "id": "2b2cdb7f",
   "metadata": {},
   "outputs": [
    {
     "data": {
      "text/plain": [
       "0    0.732\n",
       "1    0.268\n",
       "Name: True, dtype: float64"
      ]
     },
     "execution_count": 60,
     "metadata": {},
     "output_type": "execute_result"
    }
   ],
   "source": [
    "dff = pd.DataFrame()      \n",
    "\n",
    "for i in range(len(df)):\n",
    "    if df['RSI_Stoch_Signal'][i] == 1:\n",
    "        if df['close'][i+1] > df['close'][i]:\n",
    "            \n",
    "            dff = pd.concat([dff, df[i:i-4:-1]])\n",
    "            \n",
    "dff = dff.reset_index(drop = True)            \n",
    "dff['True'].value_counts(normalize = True).round(3)"
   ]
  },
  {
   "cell_type": "code",
   "execution_count": 61,
   "id": "d47140cf",
   "metadata": {},
   "outputs": [],
   "source": [
    "dff_train, dff_valid = train_test_split(dff, test_size = 0.20, random_state = rndst)\n",
    "\n",
    "dff_valid, dff_test = train_test_split(dff_valid, test_size = 0.50, random_state = rndst)"
   ]
  },
  {
   "cell_type": "code",
   "execution_count": 62,
   "id": "4072d1d2",
   "metadata": {},
   "outputs": [],
   "source": [
    "features_train = dff_train.drop(['True'], axis = 1)\n",
    "target_train = dff_train['True']\n",
    "\n",
    "features_valid = dff_valid.drop(['True'], axis = 1)\n",
    "target_valid = dff_valid['True']\n",
    "\n",
    "features_test = dff_test.drop(['True'], axis = 1)\n",
    "target_test = dff_test['True']"
   ]
  },
  {
   "cell_type": "code",
   "execution_count": 63,
   "id": "1f4814ea",
   "metadata": {
    "scrolled": true
   },
   "outputs": [
    {
     "data": {
      "text/plain": [
       "0    876\n",
       "1    320\n",
       "Name: True, dtype: int64"
      ]
     },
     "execution_count": 63,
     "metadata": {},
     "output_type": "execute_result"
    }
   ],
   "source": [
    "dff['True'].value_counts()"
   ]
  },
  {
   "cell_type": "markdown",
   "id": "b7a1a8e2",
   "metadata": {},
   "source": [
    "### Logistic Regression:"
   ]
  },
  {
   "cell_type": "code",
   "execution_count": 116,
   "id": "984239a7",
   "metadata": {},
   "outputs": [
    {
     "name": "stdout",
     "output_type": "stream",
     "text": [
      "Accuracy: 0.725\n",
      "Recall: 0.725\n",
      "Precision: 1.0\n",
      "F1: 0.8405797101449275\n",
      "AUC-ROC: 0.5329153605015674\n"
     ]
    }
   ],
   "source": [
    "model = LogisticRegression(max_iter = 10000)\n",
    "\n",
    "model.fit(features_train, target_train)\n",
    "predictions = model.predict(features_valid)\n",
    "\n",
    "stats(predictions, target_valid, features_test)"
   ]
  },
  {
   "cell_type": "code",
   "execution_count": 119,
   "id": "61ee0cd0",
   "metadata": {},
   "outputs": [
    {
     "name": "stdout",
     "output_type": "stream",
     "text": [
      "Accuracy: 0.6\n",
      "Recall: 0.76\n",
      "Precision: 0.6551724137931034\n",
      "F1: 0.7037037037037037\n",
      "AUC-ROC: 0.5329153605015673\n"
     ]
    }
   ],
   "source": [
    "oversample = SMOTE(random_state = rndst)\n",
    "features_train_up, target_train_up = oversample.fit_resample(features_train, target_train)\n",
    "\n",
    "model.fit(features_train_up, target_train_up)\n",
    "predictions = model.predict(features_test)\n",
    "\n",
    "stats(predictions, target_valid, features_test)"
   ]
  },
  {
   "cell_type": "code",
   "execution_count": 118,
   "id": "4da29b5a",
   "metadata": {},
   "outputs": [
    {
     "name": "stdout",
     "output_type": "stream",
     "text": [
      "Accuracy: 0.725\n",
      "Recall: 0.725\n",
      "Precision: 1.0\n",
      "F1: 0.8405797101449275\n",
      "AUC-ROC: 0.4075235109717868\n"
     ]
    }
   ],
   "source": [
    "features_train_down, target_train_down = downsampling(features_train, target_train, 0.333) \n",
    "\n",
    "model.fit(features_train_down, target_train_down)\n",
    "predictions = model.predict(features_valid)\n",
    "\n",
    "stats(predictions, target_valid, features_test)"
   ]
  },
  {
   "cell_type": "markdown",
   "id": "ea676fd7",
   "metadata": {},
   "source": [
    "### Random Forest Classifier:"
   ]
  },
  {
   "cell_type": "code",
   "execution_count": 120,
   "id": "897897da",
   "metadata": {},
   "outputs": [
    {
     "name": "stdout",
     "output_type": "stream",
     "text": [
      "Best F1: 0.8656716417910448\n",
      "Best parameters: {'Best Estimator': 1, 'Best Depth': 7, 'Best Criterion': 'entropy'}\n"
     ]
    }
   ],
   "source": [
    "best_f1 = 0\n",
    "best_estimators = 0\n",
    "best_depth = 0\n",
    "best_criterion = ''\n",
    "\n",
    "for estimator in range(1,101,10):\n",
    "    for depth in range(1,21):\n",
    "        for criterion in ['gini', 'entropy']:\n",
    "            model = RandomForestClassifier(\n",
    "                                            n_estimators = estimator, \n",
    "                                            max_features = 'sqrt', \n",
    "                                            max_depth = depth,\n",
    "                                            criterion = criterion,\n",
    "                                           )\n",
    "            model.fit(features_train, target_train)\n",
    "\n",
    "            predictions = model.predict(features_valid)\n",
    "            f1 = f1_score(target_valid, predictions)\n",
    "            if f1 > best_f1:\n",
    "                best_f1 = f1\n",
    "                best_estimators = estimator\n",
    "                best_depth=depth\n",
    "                best_criterion = criterion\n",
    "                                \n",
    "params = {'Best Estimator' : best_estimators,\n",
    "          'Best Depth' : best_depth,\n",
    "          'Best Criterion' : best_criterion\n",
    "         }\n",
    "                        \n",
    "print('Best F1:', best_f1)\n",
    "print('Best parameters:', params)"
   ]
  },
  {
   "cell_type": "code",
   "execution_count": 123,
   "id": "1409326b",
   "metadata": {},
   "outputs": [
    {
     "name": "stdout",
     "output_type": "stream",
     "text": [
      "Accuracy: 0.675\n",
      "Recall: 0.7352941176470589\n",
      "Precision: 0.8620689655172413\n",
      "F1: 0.7936507936507937\n",
      "AUC-ROC: 0.5501567398119123\n"
     ]
    }
   ],
   "source": [
    "model = RandomForestClassifier(n_estimators = 1, max_depth = 7, criterion = 'entropy')\n",
    "\n",
    "model.fit(features_train, target_train)\n",
    "predictions = model.predict(features_test)\n",
    "stats(predictions, target_valid, features_test)"
   ]
  },
  {
   "cell_type": "markdown",
   "id": "afbbb0c8",
   "metadata": {},
   "source": [
    "### Gradient Boosting Classifier"
   ]
  },
  {
   "cell_type": "code",
   "execution_count": 125,
   "id": "ed82e21a",
   "metadata": {},
   "outputs": [
    {
     "data": {
      "text/plain": [
       "{'Best Estimator': 91,\n",
       " 'Best Features': 4,\n",
       " 'Best Depth': 7,\n",
       " 'Best F1': 0.8656716417910448}"
      ]
     },
     "execution_count": 125,
     "metadata": {},
     "output_type": "execute_result"
    }
   ],
   "source": [
    "best_f1\n",
    "best_features = 0\n",
    "best_depth = 0\n",
    "best_estimator = 0\n",
    "for estimator in range(1,101,10):\n",
    "    for feature_ in range(1,5):\n",
    "        for depth in range(1,8):\n",
    "            grad_boost = GradientBoostingClassifier(n_estimators=estimator, learning_rate=1, max_features=feature_, max_depth=depth,random_state = 12345)\n",
    "            \n",
    "            model = grad_boost.fit(features_train, target_train)\n",
    "            predictions = model.predict(features_valid)\n",
    "            f1 = f1_score(target_valid, predictions)\n",
    "            if f1 > best_f1:\n",
    "                best_estimator = estimator\n",
    "                best_features = feature_\n",
    "                best_depth = depth\n",
    "                \n",
    "                \n",
    "params = {'Best Estimator' : estimator,\n",
    "          'Best Features' : feature_,\n",
    "          'Best Depth' : depth,\n",
    "          'Best F1' : best_f1}\n",
    "\n",
    "params"
   ]
  },
  {
   "cell_type": "code",
   "execution_count": 133,
   "id": "6fc979d7",
   "metadata": {},
   "outputs": [
    {
     "name": "stdout",
     "output_type": "stream",
     "text": [
      "Accuracy: 0.7\n",
      "Recall: 0.7297297297297297\n",
      "Precision: 0.9310344827586207\n",
      "F1: 0.8181818181818181\n",
      "AUC-ROC: 0.567398119122257\n"
     ]
    }
   ],
   "source": [
    "model = GradientBoostingClassifier(n_estimators = 91, max_features = 4, max_depth = 7)\n",
    "model.fit(features_train, target_train)\n",
    "\n",
    "predictions = model.predict(features_test)\n",
    "\n",
    "stats(predictions, target_valid, features_test)"
   ]
  },
  {
   "cell_type": "markdown",
   "id": "db1bf125",
   "metadata": {},
   "source": [
    "# Project Report:\n",
    "**The work has been completed in a form of a group project. Group members are: Titov Georgy Alexandrovich and Frolov Anatolii Alexandrovich, 2 year students of ICEF HSE. During the work we have used the platform *Jupyter Notebook*. The project is divided into 5 parts: 0. Importing Libraries and getting access to Binance Account, 1. Calculating Trading Strategies, 2.Combinations of trading strategies, 3. Machine Learning Applications to trading, 4. Evaluation of best models (includes training and validation of models and also checking the model adequacy using the calculation of different metrics that show the performance of the model)**\n",
    "\n",
    "**Results of the project:**\n",
    "1. Imported necessary libraries for work\n",
    "2. Successfully gained access to binance account\n",
    "3. Successfully gained access to binance data (historical data of price movement and volumes). Obtained data is the following metrics: open price, close price, highest and lowest price, and also volume of trading (the most important one is close price)\n",
    "4. Successfully calculated **RSI Index** strategy and determined the breakout points (where to sell and where to buy)\n",
    "5. Calculated Stochastic Oscillator and determined the strategy of trading\n",
    "6. Empirically proved, that **Stochastic Oscillator** and **RSI Index** work together pretty well as they're both a volatile indicator and reflect the reverse trend movement\n",
    "7. Calculated **Bollinger Bands** and determined the trading strategy. Each band (lower, higher and middle) was calculated separately. It can be done either by built-in functions, or by hands. In our case we used built-in functions from ***ta*** or ***pandas.ta*** library\n",
    "8. Calculated **MACD** trading strategy. The same logic of building works for this strategy and below\n",
    "9. Successfully implemented the strategy of Keltner Channel. We have used our background knowledge to determine, whether the chosen trading strategy would be profitable (or useful) or not. In our case, **Keltner Channel** is a more volatile type of **Bollinger Bands**, therefore we would not take this strategy seriously.\n",
    "10. Empirically proved, that **Keltner Channel** would not work better than **Bollinger Bands** and other strategies in our case\n",
    "11. Tried all of the most profitable combinations of trading strategies. During this procedure we have accounted for the number of calls to *long* or *short*, meaning when to buy or sell (in 1 year) and the truthfullness of calls. The most truthfull trading strategy has appeared to be **Stochastic Oscillator, RSI Index** and **Bollinger Bands**. We have tried all combinations of these trading strategies and **reached the truthfulness of calls equal to 75%**, which is pretty valid result, that has been shown by the strategy **RSI Index and Stochastic Oscillator**.\n",
    "12. Based on obtained data from the combination of RSI and Stochastic, we have tried to train different models that would determine the truthfulness of an obtained call of a particular trading strategy (here: RSI Index & Stochastic Oscillator): **Logistic Regression, RandomForestClassifier and GradientBoostingClassifier**\n",
    "13. For each trained model we have measured the following metrics: **Accuracy, Precision, AUC-ROC, Recall, F1**. Our main goal is to maximize **F1** score and keep **AUC-ROC** higher than 0.5. This is necessary for our model to predict better than a fair coin (with probability higher that 50%, therefore there would be a profit in the long run)\n",
    "14. With proper combinations of hyperparameters all models have passed validation test. The best score showed the model of **GradientBoostingClassifier** with **F1 equal to 81% and AUC-ROC equal to 56%**\n",
    "15. Performance on validation and on training also was accompanied with imbalance of classes. On each step there was a change in training data **(upsampling and downsampling)**, as this is a useful method to increase the metric and adequacy of the model. By the end of training and validation test it has been concluded, that methods of upsampling and downsampling do not work in the way we need, therefore the best model **performs better with the imbalance of classes**\n",
    "16. The best model has been tested and showed results that were approved by superviser of the project, **Vadim Artemov**"
   ]
  }
 ],
 "metadata": {
  "kernelspec": {
   "display_name": "Python 3 (ipykernel)",
   "language": "python",
   "name": "python3"
  },
  "language_info": {
   "codemirror_mode": {
    "name": "ipython",
    "version": 3
   },
   "file_extension": ".py",
   "mimetype": "text/x-python",
   "name": "python",
   "nbconvert_exporter": "python",
   "pygments_lexer": "ipython3",
   "version": "3.11.5"
  }
 },
 "nbformat": 4,
 "nbformat_minor": 5
}
